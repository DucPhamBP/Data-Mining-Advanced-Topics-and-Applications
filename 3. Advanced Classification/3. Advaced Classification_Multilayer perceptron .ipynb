{
 "cells": [
  {
   "cell_type": "code",
   "execution_count": null,
   "id": "2e87c639",
   "metadata": {},
   "outputs": [],
   "source": [
    "# importing libraries\n",
    "import numpy as np\n",
    "import pandas as pd\n",
    "import matplotlib.pyplot as plt\n",
    "from sklearn.model_selection import train_test_split, cross_val_score\n",
    "from sklearn.preprocessing import StandardScaler\n",
    "from sklearn.metrics import accuracy_score, f1_score, classification_report\n",
    "from sklearn.metrics import roc_curve, auc, roc_auc_score\n",
    "from sklearn.preprocessing import LabelEncoder\n",
    "\n"
   ]
  },
  {
   "cell_type": "code",
   "execution_count": null,
   "id": "71e78b0b",
   "metadata": {},
   "outputs": [],
   "source": [
    "# loading dataset and trasforming it into dataframe \n",
    "\n",
    "df  = pd.read_csv('df_without_outliers.csv')"
   ]
  },
  {
   "cell_type": "code",
   "execution_count": null,
   "id": "cfb92608",
   "metadata": {},
   "outputs": [
    {
     "data": {
      "text/plain": [
       "count    89341.000000\n",
       "mean        31.476478\n",
       "std         21.525988\n",
       "min          0.000000\n",
       "25%         15.000000\n",
       "50%         31.000000\n",
       "75%         48.000000\n",
       "max         95.000000\n",
       "Name: popularity, dtype: float64"
      ]
     },
     "execution_count": 3,
     "metadata": {},
     "output_type": "execute_result"
    }
   ],
   "source": [
    "# checking info about target variable \n",
    "df['popularity'].describe()"
   ]
  },
  {
   "cell_type": "code",
   "execution_count": null,
   "id": "495e096f",
   "metadata": {},
   "outputs": [],
   "source": [
    "# dropping not useful column\n",
    "df = df.drop(columns='Unnamed: 0' )\n"
   ]
  },
  {
   "cell_type": "code",
   "execution_count": 24,
   "id": "062eb7c2",
   "metadata": {},
   "outputs": [
    {
     "data": {
      "text/html": [
       "<div>\n",
       "<style scoped>\n",
       "    .dataframe tbody tr th:only-of-type {\n",
       "        vertical-align: middle;\n",
       "    }\n",
       "\n",
       "    .dataframe tbody tr th {\n",
       "        vertical-align: top;\n",
       "    }\n",
       "\n",
       "    .dataframe thead th {\n",
       "        text-align: right;\n",
       "    }\n",
       "</style>\n",
       "<table border=\"1\" class=\"dataframe\">\n",
       "  <thead>\n",
       "    <tr style=\"text-align: right;\">\n",
       "      <th></th>\n",
       "      <th>explicit</th>\n",
       "      <th>popularity</th>\n",
       "      <th>album_type</th>\n",
       "      <th>danceability</th>\n",
       "      <th>energy</th>\n",
       "      <th>key</th>\n",
       "      <th>loudness</th>\n",
       "      <th>mode</th>\n",
       "      <th>speechiness</th>\n",
       "      <th>acousticness</th>\n",
       "      <th>...</th>\n",
       "      <th>start_of_fade_out</th>\n",
       "      <th>tempo_confidence</th>\n",
       "      <th>time_signature_confidence</th>\n",
       "      <th>key_confidence</th>\n",
       "      <th>mode_confidence</th>\n",
       "      <th>n_beats</th>\n",
       "      <th>n_bars</th>\n",
       "      <th>genre</th>\n",
       "      <th>popularity_art</th>\n",
       "      <th>followers</th>\n",
       "    </tr>\n",
       "  </thead>\n",
       "  <tbody>\n",
       "    <tr>\n",
       "      <th>0</th>\n",
       "      <td>0</td>\n",
       "      <td>52</td>\n",
       "      <td>0</td>\n",
       "      <td>0.532</td>\n",
       "      <td>0.517</td>\n",
       "      <td>0</td>\n",
       "      <td>-9.846</td>\n",
       "      <td>1</td>\n",
       "      <td>0.4930</td>\n",
       "      <td>0.54700</td>\n",
       "      <td>...</td>\n",
       "      <td>275.90530</td>\n",
       "      <td>0.020</td>\n",
       "      <td>1.000</td>\n",
       "      <td>0.500</td>\n",
       "      <td>0.525</td>\n",
       "      <td>705.0</td>\n",
       "      <td>234.0</td>\n",
       "      <td>73</td>\n",
       "      <td>51.000000</td>\n",
       "      <td>2.188180e+05</td>\n",
       "    </tr>\n",
       "    <tr>\n",
       "      <th>1</th>\n",
       "      <td>0</td>\n",
       "      <td>45</td>\n",
       "      <td>0</td>\n",
       "      <td>0.750</td>\n",
       "      <td>0.340</td>\n",
       "      <td>5</td>\n",
       "      <td>-12.759</td>\n",
       "      <td>0</td>\n",
       "      <td>0.0326</td>\n",
       "      <td>0.16700</td>\n",
       "      <td>...</td>\n",
       "      <td>517.28253</td>\n",
       "      <td>0.678</td>\n",
       "      <td>0.326</td>\n",
       "      <td>0.410</td>\n",
       "      <td>0.589</td>\n",
       "      <td>1074.0</td>\n",
       "      <td>269.0</td>\n",
       "      <td>73</td>\n",
       "      <td>47.000000</td>\n",
       "      <td>2.316130e+05</td>\n",
       "    </tr>\n",
       "    <tr>\n",
       "      <th>2</th>\n",
       "      <td>0</td>\n",
       "      <td>39</td>\n",
       "      <td>0</td>\n",
       "      <td>0.801</td>\n",
       "      <td>0.639</td>\n",
       "      <td>7</td>\n",
       "      <td>-10.681</td>\n",
       "      <td>0</td>\n",
       "      <td>0.1040</td>\n",
       "      <td>0.02900</td>\n",
       "      <td>...</td>\n",
       "      <td>259.04180</td>\n",
       "      <td>0.847</td>\n",
       "      <td>0.457</td>\n",
       "      <td>0.904</td>\n",
       "      <td>0.760</td>\n",
       "      <td>516.0</td>\n",
       "      <td>171.0</td>\n",
       "      <td>73</td>\n",
       "      <td>44.000000</td>\n",
       "      <td>1.008280e+05</td>\n",
       "    </tr>\n",
       "    <tr>\n",
       "      <th>3</th>\n",
       "      <td>0</td>\n",
       "      <td>0</td>\n",
       "      <td>2</td>\n",
       "      <td>0.675</td>\n",
       "      <td>0.543</td>\n",
       "      <td>6</td>\n",
       "      <td>-11.983</td>\n",
       "      <td>0</td>\n",
       "      <td>0.0639</td>\n",
       "      <td>0.04840</td>\n",
       "      <td>...</td>\n",
       "      <td>387.41360</td>\n",
       "      <td>0.882</td>\n",
       "      <td>0.498</td>\n",
       "      <td>0.512</td>\n",
       "      <td>0.503</td>\n",
       "      <td>826.0</td>\n",
       "      <td>207.0</td>\n",
       "      <td>73</td>\n",
       "      <td>38.000000</td>\n",
       "      <td>1.483065e+05</td>\n",
       "    </tr>\n",
       "    <tr>\n",
       "      <th>4</th>\n",
       "      <td>0</td>\n",
       "      <td>0</td>\n",
       "      <td>1</td>\n",
       "      <td>0.761</td>\n",
       "      <td>0.671</td>\n",
       "      <td>11</td>\n",
       "      <td>-13.346</td>\n",
       "      <td>0</td>\n",
       "      <td>0.0418</td>\n",
       "      <td>0.51300</td>\n",
       "      <td>...</td>\n",
       "      <td>239.63574</td>\n",
       "      <td>0.882</td>\n",
       "      <td>1.000</td>\n",
       "      <td>0.474</td>\n",
       "      <td>0.459</td>\n",
       "      <td>493.0</td>\n",
       "      <td>123.0</td>\n",
       "      <td>73</td>\n",
       "      <td>45.000000</td>\n",
       "      <td>2.458390e+05</td>\n",
       "    </tr>\n",
       "    <tr>\n",
       "      <th>...</th>\n",
       "      <td>...</td>\n",
       "      <td>...</td>\n",
       "      <td>...</td>\n",
       "      <td>...</td>\n",
       "      <td>...</td>\n",
       "      <td>...</td>\n",
       "      <td>...</td>\n",
       "      <td>...</td>\n",
       "      <td>...</td>\n",
       "      <td>...</td>\n",
       "      <td>...</td>\n",
       "      <td>...</td>\n",
       "      <td>...</td>\n",
       "      <td>...</td>\n",
       "      <td>...</td>\n",
       "      <td>...</td>\n",
       "      <td>...</td>\n",
       "      <td>...</td>\n",
       "      <td>...</td>\n",
       "      <td>...</td>\n",
       "      <td>...</td>\n",
       "    </tr>\n",
       "    <tr>\n",
       "      <th>89336</th>\n",
       "      <td>1</td>\n",
       "      <td>23</td>\n",
       "      <td>2</td>\n",
       "      <td>0.466</td>\n",
       "      <td>0.982</td>\n",
       "      <td>5</td>\n",
       "      <td>-2.674</td>\n",
       "      <td>0</td>\n",
       "      <td>0.0752</td>\n",
       "      <td>0.00841</td>\n",
       "      <td>...</td>\n",
       "      <td>200.10376</td>\n",
       "      <td>0.729</td>\n",
       "      <td>1.000</td>\n",
       "      <td>0.088</td>\n",
       "      <td>0.182</td>\n",
       "      <td>585.0</td>\n",
       "      <td>145.0</td>\n",
       "      <td>30</td>\n",
       "      <td>71.666667</td>\n",
       "      <td>1.162675e+07</td>\n",
       "    </tr>\n",
       "    <tr>\n",
       "      <th>89337</th>\n",
       "      <td>1</td>\n",
       "      <td>56</td>\n",
       "      <td>2</td>\n",
       "      <td>0.666</td>\n",
       "      <td>0.720</td>\n",
       "      <td>9</td>\n",
       "      <td>-4.483</td>\n",
       "      <td>1</td>\n",
       "      <td>0.0269</td>\n",
       "      <td>0.37100</td>\n",
       "      <td>...</td>\n",
       "      <td>200.98611</td>\n",
       "      <td>0.712</td>\n",
       "      <td>1.000</td>\n",
       "      <td>0.395</td>\n",
       "      <td>0.535</td>\n",
       "      <td>339.0</td>\n",
       "      <td>84.0</td>\n",
       "      <td>30</td>\n",
       "      <td>47.000000</td>\n",
       "      <td>4.618400e+04</td>\n",
       "    </tr>\n",
       "    <tr>\n",
       "      <th>89338</th>\n",
       "      <td>1</td>\n",
       "      <td>80</td>\n",
       "      <td>0</td>\n",
       "      <td>0.813</td>\n",
       "      <td>0.627</td>\n",
       "      <td>11</td>\n",
       "      <td>-5.018</td>\n",
       "      <td>0</td>\n",
       "      <td>0.0486</td>\n",
       "      <td>0.07710</td>\n",
       "      <td>...</td>\n",
       "      <td>189.48643</td>\n",
       "      <td>0.814</td>\n",
       "      <td>0.990</td>\n",
       "      <td>0.097</td>\n",
       "      <td>0.330</td>\n",
       "      <td>417.0</td>\n",
       "      <td>106.0</td>\n",
       "      <td>30</td>\n",
       "      <td>82.500000</td>\n",
       "      <td>1.517423e+07</td>\n",
       "    </tr>\n",
       "    <tr>\n",
       "      <th>89339</th>\n",
       "      <td>0</td>\n",
       "      <td>60</td>\n",
       "      <td>2</td>\n",
       "      <td>0.653</td>\n",
       "      <td>0.779</td>\n",
       "      <td>0</td>\n",
       "      <td>-3.133</td>\n",
       "      <td>1</td>\n",
       "      <td>0.0392</td>\n",
       "      <td>0.37200</td>\n",
       "      <td>...</td>\n",
       "      <td>197.41605</td>\n",
       "      <td>0.650</td>\n",
       "      <td>1.000</td>\n",
       "      <td>0.545</td>\n",
       "      <td>0.604</td>\n",
       "      <td>359.0</td>\n",
       "      <td>89.0</td>\n",
       "      <td>30</td>\n",
       "      <td>42.500000</td>\n",
       "      <td>3.855350e+04</td>\n",
       "    </tr>\n",
       "    <tr>\n",
       "      <th>89340</th>\n",
       "      <td>0</td>\n",
       "      <td>57</td>\n",
       "      <td>0</td>\n",
       "      <td>0.768</td>\n",
       "      <td>0.444</td>\n",
       "      <td>1</td>\n",
       "      <td>-8.079</td>\n",
       "      <td>1</td>\n",
       "      <td>0.0811</td>\n",
       "      <td>0.11200</td>\n",
       "      <td>...</td>\n",
       "      <td>196.73688</td>\n",
       "      <td>0.428</td>\n",
       "      <td>1.000</td>\n",
       "      <td>0.847</td>\n",
       "      <td>0.710</td>\n",
       "      <td>304.0</td>\n",
       "      <td>75.0</td>\n",
       "      <td>51</td>\n",
       "      <td>71.000000</td>\n",
       "      <td>5.284466e+06</td>\n",
       "    </tr>\n",
       "  </tbody>\n",
       "</table>\n",
       "<p>89341 rows × 26 columns</p>\n",
       "</div>"
      ],
      "text/plain": [
       "       explicit  popularity  album_type  danceability  energy  key  loudness  \\\n",
       "0             0          52           0         0.532   0.517    0    -9.846   \n",
       "1             0          45           0         0.750   0.340    5   -12.759   \n",
       "2             0          39           0         0.801   0.639    7   -10.681   \n",
       "3             0           0           2         0.675   0.543    6   -11.983   \n",
       "4             0           0           1         0.761   0.671   11   -13.346   \n",
       "...         ...         ...         ...           ...     ...  ...       ...   \n",
       "89336         1          23           2         0.466   0.982    5    -2.674   \n",
       "89337         1          56           2         0.666   0.720    9    -4.483   \n",
       "89338         1          80           0         0.813   0.627   11    -5.018   \n",
       "89339         0          60           2         0.653   0.779    0    -3.133   \n",
       "89340         0          57           0         0.768   0.444    1    -8.079   \n",
       "\n",
       "       mode  speechiness  acousticness  ...  start_of_fade_out  \\\n",
       "0         1       0.4930       0.54700  ...          275.90530   \n",
       "1         0       0.0326       0.16700  ...          517.28253   \n",
       "2         0       0.1040       0.02900  ...          259.04180   \n",
       "3         0       0.0639       0.04840  ...          387.41360   \n",
       "4         0       0.0418       0.51300  ...          239.63574   \n",
       "...     ...          ...           ...  ...                ...   \n",
       "89336     0       0.0752       0.00841  ...          200.10376   \n",
       "89337     1       0.0269       0.37100  ...          200.98611   \n",
       "89338     0       0.0486       0.07710  ...          189.48643   \n",
       "89339     1       0.0392       0.37200  ...          197.41605   \n",
       "89340     1       0.0811       0.11200  ...          196.73688   \n",
       "\n",
       "       tempo_confidence  time_signature_confidence  key_confidence  \\\n",
       "0                 0.020                      1.000           0.500   \n",
       "1                 0.678                      0.326           0.410   \n",
       "2                 0.847                      0.457           0.904   \n",
       "3                 0.882                      0.498           0.512   \n",
       "4                 0.882                      1.000           0.474   \n",
       "...                 ...                        ...             ...   \n",
       "89336             0.729                      1.000           0.088   \n",
       "89337             0.712                      1.000           0.395   \n",
       "89338             0.814                      0.990           0.097   \n",
       "89339             0.650                      1.000           0.545   \n",
       "89340             0.428                      1.000           0.847   \n",
       "\n",
       "       mode_confidence  n_beats  n_bars  genre  popularity_art     followers  \n",
       "0                0.525    705.0   234.0     73       51.000000  2.188180e+05  \n",
       "1                0.589   1074.0   269.0     73       47.000000  2.316130e+05  \n",
       "2                0.760    516.0   171.0     73       44.000000  1.008280e+05  \n",
       "3                0.503    826.0   207.0     73       38.000000  1.483065e+05  \n",
       "4                0.459    493.0   123.0     73       45.000000  2.458390e+05  \n",
       "...                ...      ...     ...    ...             ...           ...  \n",
       "89336            0.182    585.0   145.0     30       71.666667  1.162675e+07  \n",
       "89337            0.535    339.0    84.0     30       47.000000  4.618400e+04  \n",
       "89338            0.330    417.0   106.0     30       82.500000  1.517423e+07  \n",
       "89339            0.604    359.0    89.0     30       42.500000  3.855350e+04  \n",
       "89340            0.710    304.0    75.0     51       71.000000  5.284466e+06  \n",
       "\n",
       "[89341 rows x 26 columns]"
      ]
     },
     "execution_count": 24,
     "metadata": {},
     "output_type": "execute_result"
    }
   ],
   "source": [
    "df"
   ]
  },
  {
   "cell_type": "code",
   "execution_count": 11,
   "id": "3c7e10b0",
   "metadata": {},
   "outputs": [
    {
     "data": {
      "text/plain": [
       "31.0"
      ]
     },
     "execution_count": 11,
     "metadata": {},
     "output_type": "execute_result"
    }
   ],
   "source": [
    "df['popularity'].median()"
   ]
  },
  {
   "cell_type": "code",
   "execution_count": null,
   "id": "9cf9cc6a",
   "metadata": {},
   "outputs": [],
   "source": [
    "# definition of the function to discretize popularity values. 3 classes are defined (low, medium,high)\n",
    "# the discretizazion of the values is based on standard deviation of the values belonging to the popularity feature\n",
    "\n",
    "def popularity_discretizer(observation):\n",
    "    pop_mean = df['popularity_art'].mean()\n",
    "    pop_std = df['popularity_art'].std()\n",
    "    if observation <= pop_mean - pop_std:\n",
    "        return 'low popularity'\n",
    "    elif observation <= pop_mean + pop_std:\n",
    "        return 'medium popularity'\n",
    "    else:\n",
    "        return 'high popularity'"
   ]
  },
  {
   "cell_type": "code",
   "execution_count": 6,
   "id": "1fc81fb2",
   "metadata": {},
   "outputs": [],
   "source": [
    "classes = df['popularity'].apply(popularity_discretizer)"
   ]
  },
  {
   "cell_type": "code",
   "execution_count": 7,
   "id": "a22ae59f",
   "metadata": {},
   "outputs": [],
   "source": [
    "counts_per_class = classes.value_counts().sort_values(ascending = False)"
   ]
  },
  {
   "cell_type": "code",
   "execution_count": null,
   "id": "8b27c2e5",
   "metadata": {},
   "outputs": [
    {
     "data": {
      "image/png": "[encoded data removed]",
      "text/plain": [
       "<Figure size 1000x600 with 1 Axes>"
      ]
     },
     "metadata": {},
     "output_type": "display_data"
    }
   ],
   "source": [
    "# plotting frequency of the instances belonging to each class \n",
    "\n",
    "plt.figure(figsize = (10,6))\n",
    "counts_per_class.plot(kind = 'bar')\n",
    "plt.title('Bar Plot Ordinato delle Categorie')\n",
    "plt.xlabel('Categorie')\n",
    "plt.ylabel('Frequenze')\n",
    "for i, v in enumerate(counts_per_class):\n",
    "    plt.text(i, v, str(v), ha='center', va='bottom')\n",
    "\n",
    "plt.tight_layout()\n",
    "plt.show()"
   ]
  },
  {
   "cell_type": "code",
   "execution_count": null,
   "id": "f3c29fd6",
   "metadata": {},
   "outputs": [],
   "source": [
    "# removing  polularity column  \n",
    "df = df.drop(columns = 'popularity')\n"
   ]
  },
  {
   "cell_type": "code",
   "execution_count": null,
   "id": "a7c9f370",
   "metadata": {},
   "outputs": [],
   "source": [
    "# encoding labels\n",
    "encoder= LabelEncoder()\n",
    "y = encoder.fit_transform(classes)"
   ]
  },
  {
   "cell_type": "markdown",
   "id": "84b17697",
   "metadata": {},
   "source": [
    "DATA PARTITIONING"
   ]
  },
  {
   "cell_type": "code",
   "execution_count": 11,
   "id": "8e23c87b",
   "metadata": {},
   "outputs": [],
   "source": [
    "X_train ,X_test, y_train,y_test = train_test_split(df,y,test_size = 0.2,random_state = 100, stratify = y  )"
   ]
  },
  {
   "cell_type": "code",
   "execution_count": null,
   "id": "5b56d7e4",
   "metadata": {},
   "outputs": [],
   "source": [
    "# splitting training set into validation set \n",
    "\n",
    "X_train_new, X_val, y_train_new, y_val = train_test_split(X_train,y_train,test_size = 0.2,random_state = 100, stratify = y_train )"
   ]
  },
  {
   "cell_type": "code",
   "execution_count": 13,
   "id": "80834469",
   "metadata": {},
   "outputs": [
    {
     "data": {
      "text/plain": [
       "((57177, 25), (14295, 25), (57177,), (14295,))"
      ]
     },
     "execution_count": 13,
     "metadata": {},
     "output_type": "execute_result"
    }
   ],
   "source": [
    "X_train_new.shape, X_val.shape, y_train_new.shape, y_val.shape"
   ]
  },
  {
   "cell_type": "markdown",
   "id": "e2a47fa3",
   "metadata": {},
   "source": [
    "NORMALIZATION"
   ]
  },
  {
   "cell_type": "code",
   "execution_count": null,
   "id": "90d3915e",
   "metadata": {},
   "outputs": [],
   "source": [
    "# normalization with scaler \n",
    "scaler = StandardScaler()\n",
    "scaler.fit(X_train_new)\n",
    "X_tr_new_scaled = scaler.transform(X_train_new)\n",
    "X_val_scaled = scaler.transform(X_val)\n",
    "X_test_scaled = scaler.transform(X_test)"
   ]
  },
  {
   "cell_type": "code",
   "execution_count": null,
   "id": "6077b2df",
   "metadata": {},
   "outputs": [],
   "source": [
    "# keeping sizes of training set as trial \n",
    "X_train_big = scaler.fit_transform(X_train)"
   ]
  },
  {
   "cell_type": "markdown",
   "id": "64f9f1d4",
   "metadata": {},
   "source": [
    "Classification with skleanr Multilayer Perceptron classifier "
   ]
  },
  {
   "cell_type": "code",
   "execution_count": null,
   "id": "fddb2891",
   "metadata": {},
   "outputs": [],
   "source": [
    "# importing library \n",
    "from sklearn.neural_network import MLPClassifier"
   ]
  },
  {
   "cell_type": "code",
   "execution_count": 20,
   "id": "ebf7d5c1",
   "metadata": {},
   "outputs": [],
   "source": [
    "#model building \n",
    "\n",
    "model1 = MLPClassifier(\n",
    "    hidden_layer_sizes=(20,),  \n",
    "    activation='relu',\n",
    "    solver='adam',\n",
    "    max_iter=1000,\n",
    "    random_state=42)\n",
    "\n",
    "\n",
    "\n",
    "\n",
    "\n"
   ]
  },
  {
   "cell_type": "code",
   "execution_count": null,
   "id": "6abf5f25",
   "metadata": {},
   "outputs": [
    {
     "name": "stdout",
     "output_type": "stream",
     "text": [
      "CPU times: user 5 µs, sys: 4 µs, total: 9 µs\n",
      "Wall time: 16.2 µs\n"
     ]
    },
    {
     "data": {
      "text/html": [
       "<style>#sk-container-id-1 {color: black;background-color: white;}#sk-container-id-1 pre{padding: 0;}#sk-container-id-1 div.sk-toggleable {background-color: white;}#sk-container-id-1 label.sk-toggleable__label {cursor: pointer;display: block;width: 100%;margin-bottom: 0;padding: 0.3em;box-sizing: border-box;text-align: center;}#sk-container-id-1 label.sk-toggleable__label-arrow:before {content: \"▸\";float: left;margin-right: 0.25em;color: #696969;}#sk-container-id-1 label.sk-toggleable__label-arrow:hover:before {color: black;}#sk-container-id-1 div.sk-estimator:hover label.sk-toggleable__label-arrow:before {color: black;}#sk-container-id-1 div.sk-toggleable__content {max-height: 0;max-width: 0;overflow: hidden;text-align: left;background-color: #f0f8ff;}#sk-container-id-1 div.sk-toggleable__content pre {margin: 0.2em;color: black;border-radius: 0.25em;background-color: #f0f8ff;}#sk-container-id-1 input.sk-toggleable__control:checked~div.sk-toggleable__content {max-height: 200px;max-width: 100%;overflow: auto;}#sk-container-id-1 input.sk-toggleable__control:checked~label.sk-toggleable__label-arrow:before {content: \"▾\";}#sk-container-id-1 div.sk-estimator input.sk-toggleable__control:checked~label.sk-toggleable__label {background-color: #d4ebff;}#sk-container-id-1 div.sk-label input.sk-toggleable__control:checked~label.sk-toggleable__label {background-color: #d4ebff;}#sk-container-id-1 input.sk-hidden--visually {border: 0;clip: rect(1px 1px 1px 1px);clip: rect(1px, 1px, 1px, 1px);height: 1px;margin: -1px;overflow: hidden;padding: 0;position: absolute;width: 1px;}#sk-container-id-1 div.sk-estimator {font-family: monospace;background-color: #f0f8ff;border: 1px dotted black;border-radius: 0.25em;box-sizing: border-box;margin-bottom: 0.5em;}#sk-container-id-1 div.sk-estimator:hover {background-color: #d4ebff;}#sk-container-id-1 div.sk-parallel-item::after {content: \"\";width: 100%;border-bottom: 1px solid gray;flex-grow: 1;}#sk-container-id-1 div.sk-label:hover label.sk-toggleable__label {background-color: #d4ebff;}#sk-container-id-1 div.sk-serial::before {content: \"\";position: absolute;border-left: 1px solid gray;box-sizing: border-box;top: 0;bottom: 0;left: 50%;z-index: 0;}#sk-container-id-1 div.sk-serial {display: flex;flex-direction: column;align-items: center;background-color: white;padding-right: 0.2em;padding-left: 0.2em;position: relative;}#sk-container-id-1 div.sk-item {position: relative;z-index: 1;}#sk-container-id-1 div.sk-parallel {display: flex;align-items: stretch;justify-content: center;background-color: white;position: relative;}#sk-container-id-1 div.sk-item::before, #sk-container-id-1 div.sk-parallel-item::before {content: \"\";position: absolute;border-left: 1px solid gray;box-sizing: border-box;top: 0;bottom: 0;left: 50%;z-index: -1;}#sk-container-id-1 div.sk-parallel-item {display: flex;flex-direction: column;z-index: 1;position: relative;background-color: white;}#sk-container-id-1 div.sk-parallel-item:first-child::after {align-self: flex-end;width: 50%;}#sk-container-id-1 div.sk-parallel-item:last-child::after {align-self: flex-start;width: 50%;}#sk-container-id-1 div.sk-parallel-item:only-child::after {width: 0;}#sk-container-id-1 div.sk-dashed-wrapped {border: 1px dashed gray;margin: 0 0.4em 0.5em 0.4em;box-sizing: border-box;padding-bottom: 0.4em;background-color: white;}#sk-container-id-1 div.sk-label label {font-family: monospace;font-weight: bold;display: inline-block;line-height: 1.2em;}#sk-container-id-1 div.sk-label-container {text-align: center;}#sk-container-id-1 div.sk-container {/* jupyter's `normalize.less` sets `[hidden] { display: none; }` but bootstrap.min.css set `[hidden] { display: none !important; }` so we also need the `!important` here to be able to override the default hidden behavior on the sphinx rendered scikit-learn.org. See: https://github.com/scikit-learn/scikit-learn/issues/21755 */display: inline-block !important;position: relative;}#sk-container-id-1 div.sk-text-repr-fallback {display: none;}</style><div id=\"sk-container-id-1\" class=\"sk-top-container\"><div class=\"sk-text-repr-fallback\"><pre>MLPClassifier(hidden_layer_sizes=(20,), max_iter=1000, random_state=42)</pre><b>In a Jupyter environment, please rerun this cell to show the HTML representation or trust the notebook. <br />On GitHub, the HTML representation is unable to render, please try loading this page with nbviewer.org.</b></div><div class=\"sk-container\" hidden><div class=\"sk-item\"><div class=\"sk-estimator sk-toggleable\"><input class=\"sk-toggleable__control sk-hidden--visually\" id=\"sk-estimator-id-1\" type=\"checkbox\" checked><label for=\"sk-estimator-id-1\" class=\"sk-toggleable__label sk-toggleable__label-arrow\">MLPClassifier</label><div class=\"sk-toggleable__content\"><pre>MLPClassifier(hidden_layer_sizes=(20,), max_iter=1000, random_state=42)</pre></div></div></div></div></div>"
      ],
      "text/plain": [
       "MLPClassifier(hidden_layer_sizes=(20,), max_iter=1000, random_state=42)"
      ]
     },
     "execution_count": 22,
     "metadata": {},
     "output_type": "execute_result"
    }
   ],
   "source": [
    "# fitting model 1\n",
    "%time\n",
    "model1.fit(X_train_big,y_train)"
   ]
  },
  {
   "cell_type": "code",
   "execution_count": 23,
   "id": "009f0358",
   "metadata": {},
   "outputs": [
    {
     "name": "stdout",
     "output_type": "stream",
     "text": [
      "Accuracy 0.09547260618949018\n",
      "F1-score [0.03495358 0.22268295 0.        ]\n",
      "              precision    recall  f1-score   support\n",
      "\n",
      "           0       0.02      0.27      0.03       965\n",
      "           1       0.35      0.16      0.22      8837\n",
      "           2       0.00      0.00      0.00      8067\n",
      "\n",
      "    accuracy                           0.10     17869\n",
      "   macro avg       0.12      0.14      0.09     17869\n",
      "weighted avg       0.17      0.10      0.11     17869\n",
      "\n"
     ]
    },
    {
     "name": "stderr",
     "output_type": "stream",
     "text": [
      "/Users/thomasgonzo/anaconda3/lib/python3.10/site-packages/sklearn/base.py:413: UserWarning: X has feature names, but MLPClassifier was fitted without feature names\n",
      "  warnings.warn(\n",
      "/Users/thomasgonzo/anaconda3/lib/python3.10/site-packages/sklearn/metrics/_classification.py:1344: UndefinedMetricWarning: Precision and F-score are ill-defined and being set to 0.0 in labels with no predicted samples. Use `zero_division` parameter to control this behavior.\n",
      "  _warn_prf(average, modifier, msg_start, len(result))\n",
      "/Users/thomasgonzo/anaconda3/lib/python3.10/site-packages/sklearn/metrics/_classification.py:1344: UndefinedMetricWarning: Precision and F-score are ill-defined and being set to 0.0 in labels with no predicted samples. Use `zero_division` parameter to control this behavior.\n",
      "  _warn_prf(average, modifier, msg_start, len(result))\n",
      "/Users/thomasgonzo/anaconda3/lib/python3.10/site-packages/sklearn/metrics/_classification.py:1344: UndefinedMetricWarning: Precision and F-score are ill-defined and being set to 0.0 in labels with no predicted samples. Use `zero_division` parameter to control this behavior.\n",
      "  _warn_prf(average, modifier, msg_start, len(result))\n"
     ]
    }
   ],
   "source": [
    "y_pred = model1.predict(X_test_scaled)\n",
    "print('Accuracy %s' % accuracy_score(y_test, y_pred))\n",
    "print('F1-score %s' % f1_score(y_test, y_pred, average=None))\n",
    "print(classification_report(y_test, y_pred))"
   ]
  },
  {
   "cell_type": "code",
   "execution_count": null,
   "id": "cbdf4524",
   "metadata": {},
   "outputs": [],
   "source": [
    "model2 =  MLPClassifier(\n",
    "    hidden_layer_sizes=(20, 10),  \n",
    "    solver='adam',\n",
    "    max_iter=1000,\n",
    "    random_state=42)\n",
    "    \n",
    "model3 = MLPClassifier(\n",
    "    hidden_layer_sizes=(25, 15, 8),  \n",
    "    activation='relu',\n",
    "    solver='adam',\n",
    "    max_iter=1000,\n",
    "    random_state=42)\n",
    "models = [model1, model2, model3]  "
   ]
  },
  {
   "cell_type": "code",
   "execution_count": null,
   "id": "8c4ce125",
   "metadata": {},
   "outputs": [
    {
     "name": "stdout",
     "output_type": "stream",
     "text": [
      "CPU times: user 3 µs, sys: 1e+03 ns, total: 4 µs\n",
      "Wall time: 8.82 µs\n",
      "Accuracy 0.7388773854160837  configuration 1\n",
      "F1-score [0.33915575 0.78214265 0.72641902] configuration 1\n",
      "              precision    recall  f1-score   support\n",
      "\n",
      "           0       0.57      0.24      0.34       965\n",
      "           1       0.79      0.78      0.78      8837\n",
      "           2       0.70      0.76      0.73      8067\n",
      "\n",
      "    accuracy                           0.74     17869\n",
      "   macro avg       0.69      0.59      0.62     17869\n",
      "weighted avg       0.74      0.74      0.73     17869\n",
      "\n",
      "Accuracy 0.740948010521014  configuration 2\n",
      "F1-score [0.30162413 0.78001162 0.73489991] configuration 2\n",
      "              precision    recall  f1-score   support\n",
      "\n",
      "           0       0.59      0.20      0.30       965\n",
      "           1       0.80      0.76      0.78      8837\n",
      "           2       0.69      0.79      0.73      8067\n",
      "\n",
      "    accuracy                           0.74     17869\n",
      "   macro avg       0.70      0.58      0.61     17869\n",
      "weighted avg       0.74      0.74      0.73     17869\n",
      "\n",
      "Accuracy 0.7465442945883933  configuration 3\n",
      "F1-score [0.35477032 0.78913975 0.73520323] configuration 3\n",
      "              precision    recall  f1-score   support\n",
      "\n",
      "           0       0.56      0.26      0.35       965\n",
      "           1       0.80      0.78      0.79      8837\n",
      "           2       0.71      0.77      0.74      8067\n",
      "\n",
      "    accuracy                           0.75     17869\n",
      "   macro avg       0.69      0.60      0.63     17869\n",
      "weighted avg       0.74      0.75      0.74     17869\n",
      "\n"
     ]
    }
   ],
   "source": [
    "%time\n",
    "for i,model in enumerate(models,1):\n",
    "    model.fit(X_train_big,y_train)\n",
    "    y_pred = model.predict(X_test_scaled)\n",
    "    print('Accuracy %s  configuration {}'.format(i) % accuracy_score(y_test, y_pred))\n",
    "    print('F1-score %s configuration {}'.format(i) % f1_score(y_test, y_pred, average=None))\n",
    "    print(classification_report(y_test, y_pred))"
   ]
  },
  {
   "cell_type": "code",
   "execution_count": null,
   "id": "376dcf44",
   "metadata": {},
   "outputs": [
    {
     "data": {
      "image/png": "[encoded data removed]",
      "text/plain": [
       "<Figure size 1200x600 with 1 Axes>"
      ]
     },
     "metadata": {},
     "output_type": "display_data"
    },
    {
     "data": {
      "image/png": "[encoded data removed]",
      "text/plain": [
       "<Figure size 1200x600 with 1 Axes>"
      ]
     },
     "metadata": {},
     "output_type": "display_data"
    },
    {
     "data": {
      "image/png": "[encoded data removed]",
      "text/plain": [
       "<Figure size 1200x600 with 1 Axes>"
      ]
     },
     "metadata": {},
     "output_type": "display_data"
    }
   ],
   "source": [
    "#plotting loss curves\n",
    "color = ('b', 'g', 'r')\n",
    "\n",
    "for i,(color,model) in enumerate (zip(color, models),1):\n",
    "    plt.figure(figsize = (12,6))\n",
    "    plt.plot(model.loss_curve_ , c = color)\n",
    "    plt.xlabel('steps')\n",
    "    plt.ylabel('loss')\n",
    "    plt.title('loss curve model {}'.format(i))  \n",
    "    plt.show()"
   ]
  },
  {
   "cell_type": "code",
   "execution_count": null,
   "id": "61b9b922",
   "metadata": {},
   "outputs": [
    {
     "name": "stdout",
     "output_type": "stream",
     "text": [
      "Accuracy 0.6963456265040013  configuration 4\n",
      "F1-score [0.36569579 0.74311873 0.68466951] configuration 4\n",
      "              precision    recall  f1-score   support\n",
      "\n",
      "           0       0.38      0.35      0.37       965\n",
      "           1       0.76      0.73      0.74      8837\n",
      "           2       0.66      0.71      0.68      8067\n",
      "\n",
      "    accuracy                           0.70     17869\n",
      "   macro avg       0.60      0.59      0.60     17869\n",
      "weighted avg       0.70      0.70      0.70     17869\n",
      "\n"
     ]
    }
   ],
   "source": [
    "model4 = MLPClassifier(\n",
    "    hidden_layer_sizes=(128,64,32),  \n",
    "    activation='relu',\n",
    "    solver='adam',\n",
    "    max_iter=1000,\n",
    "    random_state=42)\n",
    "\n",
    "model4.fit(X_train_big,y_train)\n",
    "\n",
    "y_pred = model4.predict(X_test_scaled)\n",
    "print('Accuracy %s  configuration 4' % accuracy_score(y_test, y_pred))\n",
    "print('F1-score %s configuration 4' % f1_score(y_test, y_pred, average=None))\n",
    "    \n",
    "print(classification_report(y_test, y_pred))"
   ]
  },
  {
   "cell_type": "code",
   "execution_count": null,
   "id": "a474df99",
   "metadata": {},
   "outputs": [],
   "source": []
  }
 ],
 "metadata": {
  "kernelspec": {
   "display_name": "Python 3 (ipykernel)",
   "language": "python",
   "name": "python3"
  },
  "language_info": {
   "codemirror_mode": {
    "name": "ipython",
    "version": 3
   },
   "file_extension": ".py",
   "mimetype": "text/x-python",
   "name": "python",
   "nbconvert_exporter": "python",
   "pygments_lexer": "ipython3",
   "version": "3.10.14"
  }
 },
 "nbformat": 4,
 "nbformat_minor": 5
}
