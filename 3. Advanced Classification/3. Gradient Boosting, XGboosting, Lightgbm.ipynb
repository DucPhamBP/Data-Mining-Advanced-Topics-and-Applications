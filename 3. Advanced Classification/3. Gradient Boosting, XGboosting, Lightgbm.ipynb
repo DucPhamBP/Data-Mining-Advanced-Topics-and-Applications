{
 "cells": [
  {
   "cell_type": "code",
   "execution_count": null,
   "id": "acb3b5af",
   "metadata": {},
   "outputs": [],
   "source": [
    "# importing initial libraries \n",
    "import numpy as np\n",
    "import pandas as pd\n",
    "import matplotlib.pyplot as plt\n",
    "from sklearn.model_selection import train_test_split, cross_val_score \n",
    "\n",
    "from sklearn.metrics import accuracy_score, f1_score, classification_report\n",
    "from sklearn.metrics import roc_curve, auc, roc_auc_score"
   ]
  },
  {
   "cell_type": "code",
   "execution_count": 2,
   "id": "0304da7e",
   "metadata": {},
   "outputs": [],
   "source": [
    "df = pd.read_csv('df_without_outliers.csv')"
   ]
  },
  {
   "cell_type": "code",
   "execution_count": 3,
   "id": "3eb88577",
   "metadata": {},
   "outputs": [],
   "source": [
    "df = df.drop(columns = 'Unnamed: 0')"
   ]
  },
  {
   "cell_type": "code",
   "execution_count": 4,
   "id": "9f940525",
   "metadata": {},
   "outputs": [],
   "source": [
    "def popularity_discretizer (observation):\n",
    "    if observation <= 40:\n",
    "        return 'low popularity'\n",
    "    \n",
    "    elif observation <= 70:\n",
    "        return 'medium popularity'\n",
    "    \n",
    "    else:\n",
    "        return 'high popularity'"
   ]
  },
  {
   "cell_type": "code",
   "execution_count": null,
   "id": "1795c148",
   "metadata": {},
   "outputs": [],
   "source": [
    "# creating class label vector and encoding it \n",
    "classes = df['popularity'].apply(popularity_discretizer)"
   ]
  },
  {
   "cell_type": "code",
   "execution_count": 6,
   "id": "cbad0b8a",
   "metadata": {},
   "outputs": [
    {
     "data": {
      "text/plain": [
       "pandas.core.series.Series"
      ]
     },
     "execution_count": 6,
     "metadata": {},
     "output_type": "execute_result"
    }
   ],
   "source": [
    "freq = classes.value_counts()\n",
    "type(freq)"
   ]
  },
  {
   "cell_type": "code",
   "execution_count": null,
   "id": "fb459d38",
   "metadata": {},
   "outputs": [],
   "source": [
    "# encoding labels \n",
    "from sklearn.preprocessing import LabelEncoder\n",
    "\n",
    "y = LabelEncoder().fit_transform(classes)"
   ]
  },
  {
   "cell_type": "code",
   "execution_count": 8,
   "id": "7b1b947e",
   "metadata": {},
   "outputs": [
    {
     "data": {
      "text/plain": [
       "(89341,)"
      ]
     },
     "execution_count": 8,
     "metadata": {},
     "output_type": "execute_result"
    }
   ],
   "source": [
    "y.shape"
   ]
  },
  {
   "cell_type": "code",
   "execution_count": 9,
   "id": "c51233e5",
   "metadata": {},
   "outputs": [],
   "source": [
    "cl = np.unique(y)"
   ]
  },
  {
   "cell_type": "code",
   "execution_count": 10,
   "id": "2f8ee12d",
   "metadata": {},
   "outputs": [
    {
     "data": {
      "text/plain": [
       "array([ 3000, 57182, 29159])"
      ]
     },
     "execution_count": 10,
     "metadata": {},
     "output_type": "execute_result"
    }
   ],
   "source": [
    "frequencies = np.bincount(y)\n",
    "frequencies"
   ]
  },
  {
   "cell_type": "code",
   "execution_count": null,
   "id": "e4b05eeb",
   "metadata": {},
   "outputs": [
    {
     "data": {
      "image/png": "[encoded data removed]",
      "text/plain": [
       "<Figure size 1000x600 with 1 Axes>"
      ]
     },
     "metadata": {},
     "output_type": "display_data"
    }
   ],
   "source": [
    "# checking class distribution\n",
    "\n",
    "plt.figure(figsize = (10,6))\n",
    "plt.bar(cl,freq,  color = 'mediumseagreen')\n",
    "plt.xlabel('classes')\n",
    "plt.ylabel('frequencies')\n",
    "plt.show()"
   ]
  },
  {
   "cell_type": "code",
   "execution_count": 12,
   "id": "c164a08b",
   "metadata": {},
   "outputs": [],
   "source": [
    "df = df.drop(columns = 'popularity')\n",
    "\n"
   ]
  },
  {
   "cell_type": "code",
   "execution_count": null,
   "id": "c95dbb9e",
   "metadata": {},
   "outputs": [],
   "source": [
    "# aving df for subsequent reloading \n",
    "\n",
    "np.savez('df for classification ',df)\n",
    "np.savez ('encoded class labels with discretization', y)"
   ]
  },
  {
   "cell_type": "markdown",
   "id": "b9f9f1aa",
   "metadata": {},
   "source": [
    "DATA PARTITIONING "
   ]
  },
  {
   "cell_type": "code",
   "execution_count": 13,
   "id": "8e537d76",
   "metadata": {},
   "outputs": [],
   "source": [
    "\n",
    "X_train, X_test, y_train, y_test = train_test_split(df, y, test_size=0.3, random_state=100, stratify=y)"
   ]
  },
  {
   "cell_type": "code",
   "execution_count": 14,
   "id": "fb2db650",
   "metadata": {},
   "outputs": [
    {
     "data": {
      "text/plain": [
       "((62538, 25), (26803, 25), (62538,), (26803,))"
      ]
     },
     "execution_count": 14,
     "metadata": {},
     "output_type": "execute_result"
    }
   ],
   "source": [
    "X_train.shape, X_test.shape, y_train.shape, y_test.shape"
   ]
  },
  {
   "cell_type": "code",
   "execution_count": null,
   "id": "b36f324b",
   "metadata": {},
   "outputs": [],
   "source": [
    "# normalization \n",
    "\n",
    "from sklearn.preprocessing import StandardScaler\n",
    "\n",
    "scaler = StandardScaler()\n",
    "scaler.fit(X_train)\n",
    "X_train_scaled = scaler.transform(X_train)\n",
    "X_test_scaled =  scaler.transform(X_test)\n"
   ]
  },
  {
   "cell_type": "code",
   "execution_count": null,
   "id": "239c966d",
   "metadata": {},
   "outputs": [],
   "source": [
    "# importing libraries for gradient boosting classification \n",
    "from sklearn.ensemble import GradientBoostingClassifier, GradientBoostingRegressor"
   ]
  },
  {
   "cell_type": "code",
   "execution_count": null,
   "id": "d6f55e02",
   "metadata": {},
   "outputs": [
    {
     "name": "stdout",
     "output_type": "stream",
     "text": [
      "Accuracy 0.7964780061933365\n",
      "F1-score [0.41364903 0.86437405 0.69317467]\n",
      "              precision    recall  f1-score   support\n",
      "\n",
      "           0       0.55      0.33      0.41       900\n",
      "           1       0.85      0.87      0.86     17155\n",
      "           2       0.69      0.69      0.69      8748\n",
      "\n",
      "    accuracy                           0.80     26803\n",
      "   macro avg       0.70      0.63      0.66     26803\n",
      "weighted avg       0.79      0.80      0.79     26803\n",
      "\n"
     ]
    }
   ],
   "source": [
    "# testing gradient boosting\n",
    "\n",
    "clf = GradientBoostingClassifier(n_estimators=100, \n",
    "                                 learning_rate=1.0, max_depth=3, random_state=0)\n",
    "clf.fit(X_train_scaled, y_train)\n",
    "\n",
    "y_pred = clf.predict(X_test_scaled)\n",
    "\n",
    "print('Accuracy %s' % accuracy_score(y_test, y_pred))\n",
    "print('F1-score %s' % f1_score(y_test, y_pred, average=None))\n",
    "print(classification_report(y_test, y_pred))"
   ]
  },
  {
   "cell_type": "markdown",
   "id": "4e57bc0e",
   "metadata": {},
   "source": [
    "hyperparameter tuning "
   ]
  },
  {
   "cell_type": "code",
   "execution_count": 20,
   "id": "a5389f84",
   "metadata": {},
   "outputs": [],
   "source": [
    "from sklearn.model_selection import GridSearchCV\n",
    "from sklearn.model_selection import RandomizedSearchCV\n",
    "\n",
    "param_grid = {\n",
    "    'n_estimators': [100, 150, 200],\n",
    "    'learning_rate': [0.01, 0.1, 0.3,1.0],\n",
    "    'max_depth': [3, 4, 5],\n",
    "    'min_samples_split': [2, 5, 10],\n",
    "    'min_samples_leaf': [1, 2, 4]\n",
    "}"
   ]
  },
  {
   "cell_type": "code",
   "execution_count": null,
   "id": "73e09a01",
   "metadata": {},
   "outputs": [],
   "source": [
    "gradient_classifier = GradientBoostingClassifier()\n",
    "\n",
    "randomized_search = RandomizedSearchCV(estimator = gradient_classifier ,param_distributions=param_grid, cv=3, n_iter = 100, scoring='accuracy', n_jobs=-1 )\n",
    "\n",
    "randomized_search.fit(X_train_scaled , y_train)"
   ]
  },
  {
   "cell_type": "markdown",
   "id": "7b0f26c6",
   "metadata": {},
   "source": [
    "classification with XGBoost "
   ]
  },
  {
   "cell_type": "code",
   "execution_count": 17,
   "id": "5d497bf4",
   "metadata": {},
   "outputs": [
    {
     "name": "stdout",
     "output_type": "stream",
     "text": [
      "Collecting xgboost\n",
      "  Downloading xgboost-2.1.0-py3-none-macosx_12_0_arm64.whl (1.9 MB)\n",
      "\u001b[2K     \u001b[90m━━━━━━━━━━━━━━━━━━━━━━━━━━━━━━━━━━━━━━━━\u001b[0m \u001b[32m1.9/1.9 MB\u001b[0m \u001b[31m9.0 MB/s\u001b[0m eta \u001b[36m0:00:00\u001b[0m:00:01\u001b[0m00:01\u001b[0m\n",
      "\u001b[?25hRequirement already satisfied: scipy in ./anaconda3/lib/python3.10/site-packages (from xgboost) (1.10.0)\n",
      "Requirement already satisfied: numpy in ./anaconda3/lib/python3.10/site-packages (from xgboost) (1.26.4)\n",
      "Installing collected packages: xgboost\n",
      "Successfully installed xgboost-2.1.0\n"
     ]
    }
   ],
   "source": [
    "!pip install xgboost"
   ]
  },
  {
   "cell_type": "code",
   "execution_count": 18,
   "id": "2f7aab7b",
   "metadata": {},
   "outputs": [],
   "source": [
    "from xgboost import XGBClassifier"
   ]
  },
  {
   "cell_type": "code",
   "execution_count": 19,
   "id": "518453b2",
   "metadata": {},
   "outputs": [
    {
     "name": "stderr",
     "output_type": "stream",
     "text": [
      "/Users/thomasgonzo/anaconda3/lib/python3.10/site-packages/xgboost/core.py:158: UserWarning: [21:58:55] WARNING: /Users/runner/work/xgboost/xgboost/src/learner.cc:740: \n",
      "Parameters: { \"use_label_encoder\" } are not used.\n",
      "\n",
      "  warnings.warn(smsg, UserWarning)\n"
     ]
    },
    {
     "name": "stdout",
     "output_type": "stream",
     "text": [
      "Accuracy 0.7953960377569675\n",
      "F1-score [0.38163558 0.86378699 0.69278657]\n",
      "              precision    recall  f1-score   support\n",
      "\n",
      "           0       0.54      0.30      0.38       900\n",
      "           1       0.85      0.87      0.86     17155\n",
      "           2       0.69      0.69      0.69      8748\n",
      "\n",
      "    accuracy                           0.80     26803\n",
      "   macro avg       0.69      0.62      0.65     26803\n",
      "weighted avg       0.79      0.80      0.79     26803\n",
      "\n"
     ]
    }
   ],
   "source": [
    "clf = XGBClassifier(objective='binary:logistic', \n",
    "                    max_depth = 6,\n",
    "                    learning_rate = 1.0,\n",
    "                    gamma = 0.0,\n",
    "                    reg_lambda = 1,\n",
    "                    tree_method='exact', # 'approx'\n",
    "                    use_label_encoder=False,\n",
    "                    random_state=42\n",
    "                   )\n",
    "clf.fit(X_train_scaled, y_train)\n",
    "\n",
    "y_pred = clf.predict(X_test_scaled)\n",
    "\n",
    "print('Accuracy %s' % accuracy_score(y_test, y_pred))\n",
    "print('F1-score %s' % f1_score(y_test, y_pred, average=None))\n",
    "print(classification_report(y_test, y_pred))"
   ]
  },
  {
   "cell_type": "markdown",
   "id": "e670ca0f",
   "metadata": {},
   "source": [
    "classification with lightGMB "
   ]
  },
  {
   "cell_type": "code",
   "execution_count": 22,
   "id": "7832acc6",
   "metadata": {},
   "outputs": [
    {
     "name": "stdout",
     "output_type": "stream",
     "text": [
      "Retrieving notices: ...working... done\n",
      "Collecting package metadata (current_repodata.json): done\n",
      "Solving environment: - \n",
      "The environment is inconsistent, please check the package plan carefully\n",
      "The following packages are causing the inconsistency:\n",
      "\n",
      "  - conda-forge/noarch::tsfresh==0.20.2=pyhd8ed1ab_0\n",
      "  - conda-forge/osx-arm64::tslearn==0.6.3=py310h50ce23c_1\n",
      "  - defaults/noarch::nltk==3.7=pyhd3eb1b0_0\n",
      "  - conda-forge/noarch::mne==1.0.3=hd8ed1ab_1\n",
      "  - defaults/osx-arm64::imbalanced-learn==0.10.1=py310hca03da5_0\n",
      "  - conda-forge/noarch::tbats==1.1.3=pyhd8ed1ab_0\n",
      "  - conda-forge/osx-arm64::pmdarima==2.0.4=py310hd125d64_0\n",
      "  - conda-forge/noarch::nilearn==0.10.3=pyhd8ed1ab_0\n",
      "  - conda-forge/noarch::pyod==1.1.3=pyhd8ed1ab_0\n",
      "  - conda-forge/noarch::python-picard==0.7=pyh8a188c0_0\n",
      "  - conda-forge/osx-arm64::sktime==0.27.0=py310hbe9552e_0\n",
      "  - conda-forge/osx-arm64::dipy==1.9.0=py310h401b61c_0\n",
      "  - conda-forge/noarch::sktime-all-extras==0.27.0=hd8ed1ab\\ \n",
      "done\n",
      "\n",
      "\n",
      "==> WARNING: A newer version of conda exists. <==\n",
      "  current version: 23.3.1\n",
      "  latest version: 24.5.0\n",
      "\n",
      "Please update conda by running\n",
      "\n",
      "    $ conda update -n base -c defaults conda\n",
      "\n",
      "Or to minimize the number of packages updated during conda update use\n",
      "\n",
      "     conda install conda=24.5.0\n",
      "\n",
      "\n",
      "\n",
      "## Package Plan ##\n",
      "\n",
      "  environment location: /Users/thomasgonzo/anaconda3\n",
      "\n",
      "  added / updated specs:\n",
      "    - lightgbm\n",
      "\n",
      "\n",
      "The following packages will be downloaded:\n",
      "\n",
      "    package                    |            build\n",
      "    ---------------------------|-----------------\n",
      "    ca-certificates-2024.7.4   |       hf0a4a13_0         151 KB  conda-forge\n",
      "    certifi-2024.7.4           |     pyhd8ed1ab_0         156 KB  conda-forge\n",
      "    joblib-1.4.2               |     pyhd8ed1ab_0         215 KB  conda-forge\n",
      "    lightgbm-3.3.5             |  py310he38b2b1_0         867 KB  conda-forge\n",
      "    openssl-3.3.1              |       hfb2fe0b_1         2.8 MB  conda-forge\n",
      "    scikit-learn-1.2.2         |  py310h98c5782_1         6.6 MB  conda-forge\n",
      "    threadpoolctl-3.5.0        |     pyhc1e730c_0          23 KB  conda-forge\n",
      "    ------------------------------------------------------------\n",
      "                                           Total:        10.8 MB\n",
      "\n",
      "The following NEW packages will be INSTALLED:\n",
      "\n",
      "  joblib             conda-forge/noarch::joblib-1.4.2-pyhd8ed1ab_0 \n",
      "  lightgbm           conda-forge/osx-arm64::lightgbm-3.3.5-py310he38b2b1_0 \n",
      "  scikit-learn       conda-forge/osx-arm64::scikit-learn-1.2.2-py310h98c5782_1 \n",
      "  threadpoolctl      conda-forge/noarch::threadpoolctl-3.5.0-pyhc1e730c_0 \n",
      "\n",
      "The following packages will be UPDATED:\n",
      "\n",
      "  ca-certificates    pkgs/main::ca-certificates-2024.3.11-~ --> conda-forge::ca-certificates-2024.7.4-hf0a4a13_0 \n",
      "  certifi            pkgs/main/osx-arm64::certifi-2024.6.2~ --> conda-forge/noarch::certifi-2024.7.4-pyhd8ed1ab_0 \n",
      "  openssl                                  3.3.0-h0d3ecfb_0 --> 3.3.1-hfb2fe0b_1 \n",
      "\n",
      "\n",
      "\n",
      "Downloading and Extracting Packages\n",
      "lightgbm-3.3.5       | 867 KB    |                                       |   0% \n",
      "ca-certificates-2024 | 151 KB    |                                       |   0% \u001b[A\n",
      "\n",
      "joblib-1.4.2         | 215 KB    |                                       |   0% \u001b[A\u001b[A\n",
      "\n",
      "\n",
      "threadpoolctl-3.5.0  | 23 KB     |                                       |   0% \u001b[A\u001b[A\u001b[A\n",
      "\n",
      "\n",
      "\n",
      "certifi-2024.7.4     | 156 KB    |                                       |   0% \u001b[A\u001b[A\u001b[A\u001b[A\n",
      "\n",
      "\n",
      "\n",
      "\n",
      "scikit-learn-1.2.2   | 6.6 MB    |                                       |   0% \u001b[A\u001b[A\u001b[A\u001b[A\u001b[A\n",
      "\n",
      "\n",
      "\n",
      "\n",
      "\n",
      "openssl-3.3.1        | 2.8 MB    |                                       |   0% \u001b[A\u001b[A\u001b[A\u001b[A\u001b[A\u001b[A\n",
      "ca-certificates-2024 | 151 KB    | ###9                                  |  11% \u001b[A\n",
      "\n",
      "joblib-1.4.2         | 215 KB    | ##7                                   |   7% \u001b[A\u001b[A\n",
      "\n",
      "\n",
      "threadpoolctl-3.5.0  | 23 KB     | #########################7            |  70% \u001b[A\u001b[A\u001b[A\n",
      "\n",
      "\n",
      "\n",
      "certifi-2024.7.4     | 156 KB    | ###8                                  |  10% \u001b[A\u001b[A\u001b[A\u001b[A\n",
      "ca-certificates-2024 | 151 KB    | ##################################### | 100% \u001b[A\n",
      "\n",
      "\n",
      "threadpoolctl-3.5.0  | 23 KB     | ##################################### | 100% \u001b[A\u001b[A\u001b[A\n",
      "\n",
      "\n",
      "\n",
      "certifi-2024.7.4     | 156 KB    | ##################################### | 100% \u001b[A\u001b[A\u001b[A\u001b[A\n",
      "\n",
      "lightgbm-3.3.5       | 867 KB    | 6                                     |   2% \u001b[A\u001b[A\n",
      "\n",
      "\n",
      "\n",
      "\n",
      "\n",
      "lightgbm-3.3.5       | 867 KB    | #############6                        |  37% \u001b[A\u001b[A\u001b[A\u001b[A\u001b[A\u001b[A\n",
      "\n",
      "\n",
      "\n",
      "\n",
      "\n",
      "lightgbm-3.3.5       | 867 KB    | ##################################8   |  94% \u001b[A\u001b[A\u001b[A\u001b[A\u001b[A\u001b[A\n",
      "\n",
      "\n",
      "\n",
      "\n",
      "\n",
      "openssl-3.3.1        | 2.8 MB    | ############5                         |  34% \u001b[A\u001b[A\u001b[A\u001b[A\u001b[A\u001b[A\n",
      "\n",
      "\n",
      "\n",
      "\n",
      "lightgbm-3.3.5       | 867 KB    | ##################################### | 100% \u001b[A\u001b[A\u001b[A\u001b[A\u001b[A\n",
      "\n",
      "\n",
      "\n",
      "\n",
      "scikit-learn-1.2.2   | 6.6 MB    | ##9                                   |   8% \u001b[A\u001b[A\u001b[A\u001b[A\u001b[A\n",
      "\n",
      "\n",
      "\n",
      "\n",
      "\n",
      "openssl-3.3.1        | 2.8 MB    | ##################6                   |  50% \u001b[A\u001b[A\u001b[A\u001b[A\u001b[A\u001b[A\n",
      "\n",
      "\n",
      "\n",
      "\n",
      "\n",
      "openssl-3.3.1        | 2.8 MB    | ##########################3           |  71% \u001b[A\u001b[A\u001b[A\u001b[A\u001b[A\u001b[A\n",
      "\n",
      "\n",
      "\n",
      "\n",
      "scikit-learn-1.2.2   | 6.6 MB    | #####7                                |  16% \u001b[A\u001b[A\u001b[A\u001b[A\u001b[A\n",
      "\n",
      "\n",
      "\n",
      "\n",
      "\n",
      "openssl-3.3.1        | 2.8 MB    | ################################2     |  87% \u001b[A\u001b[A\u001b[A\u001b[A\u001b[A\u001b[A\n",
      "\n",
      "\n",
      "\n",
      "\n",
      "scikit-learn-1.2.2   | 6.6 MB    | #########4                            |  26% \u001b[A\u001b[A\u001b[A\u001b[A\u001b[A\n",
      "\n",
      "\n",
      "\n",
      "\n",
      "scikit-learn-1.2.2   | 6.6 MB    | #############3                        |  36% \u001b[A\u001b[A\u001b[A\u001b[A\u001b[A\n",
      "\n",
      "\n",
      "\n",
      "\n",
      "\n",
      "openssl-3.3.1        | 2.8 MB    | ##################################### | 100% \u001b[A\u001b[A\u001b[A\u001b[A\u001b[A\u001b[A\n",
      "\n",
      "\n",
      "\n",
      "\n",
      "scikit-learn-1.2.2   | 6.6 MB    | ################9                     |  46% \u001b[A\u001b[A\u001b[A\u001b[A\u001b[A\n",
      "\n",
      "\n",
      "\n",
      "\n",
      "scikit-learn-1.2.2   | 6.6 MB    | ####################7                 |  56% \u001b[A\u001b[A\u001b[A\u001b[A\u001b[A\n",
      "\n",
      "\n",
      "\n",
      "\n",
      "scikit-learn-1.2.2   | 6.6 MB    | #########################4            |  69% \u001b[A\u001b[A\u001b[A\u001b[A\u001b[A\n",
      "\n",
      "\n",
      "\n",
      "\n",
      "scikit-learn-1.2.2   | 6.6 MB    | #############################9        |  81% \u001b[A\u001b[A\u001b[A\u001b[A\u001b[A\n",
      "\n",
      "\n",
      "\n",
      "\n",
      "scikit-learn-1.2.2   | 6.6 MB    | #################################9    |  92% \u001b[A\u001b[A\u001b[A\u001b[A\u001b[A\n",
      "\n",
      "\n",
      "\n",
      "\n",
      "                                                                                \u001b[A\u001b[A\u001b[A\u001b[A\u001b[A\n",
      "                                                                                \u001b[A\n",
      "\n",
      "                                                                                \u001b[A\u001b[A\n",
      "\n",
      "\n",
      "                                                                                \u001b[A\u001b[A\u001b[A\n",
      "\n",
      "\n",
      "\n",
      "                                                                                \u001b[A\u001b[A\u001b[A\u001b[A\n",
      "\n",
      "\n",
      "\n",
      "\n",
      "                                                                                \u001b[A\u001b[A\u001b[A\u001b[A\u001b[A\n",
      "\n",
      "\n",
      "\n",
      "\n",
      "\n",
      "                                                                                \u001b[A\u001b[A\u001b[A\u001b[A\u001b[A\u001b[A\n",
      "Preparing transaction: done\n",
      "Verifying transaction: done\n",
      "Executing transaction: done\n",
      "\n",
      "Note: you may need to restart the kernel to use updated packages.\n"
     ]
    }
   ],
   "source": [
    "conda install -c conda-forge lightgbm"
   ]
  },
  {
   "cell_type": "code",
   "execution_count": 23,
   "id": "a9c8d44d",
   "metadata": {},
   "outputs": [],
   "source": [
    "from lightgbm import LGBMClassifier"
   ]
  },
  {
   "cell_type": "code",
   "execution_count": 24,
   "id": "4583cb03",
   "metadata": {},
   "outputs": [
    {
     "name": "stdout",
     "output_type": "stream",
     "text": [
      "Accuracy 0.8023728687087266\n",
      "F1-score [0.37667455 0.86767256 0.70548447]\n",
      "              precision    recall  f1-score   support\n",
      "\n",
      "           0       0.65      0.27      0.38       900\n",
      "           1       0.86      0.87      0.87     17155\n",
      "           2       0.70      0.72      0.71      8748\n",
      "\n",
      "    accuracy                           0.80     26803\n",
      "   macro avg       0.73      0.62      0.65     26803\n",
      "weighted avg       0.80      0.80      0.80     26803\n",
      "\n"
     ]
    }
   ],
   "source": [
    "clf = LGBMClassifier(boosting_type='gbdt',  #'goss', #'dart'\n",
    "                     max_depth=-1, # no limit\n",
    "                     num_leaves=31,\n",
    "                     n_estimators=100,\n",
    "                     subsample_for_bin=200000,\n",
    "                     objective='binary',\n",
    "                     reg_alpha=0.0, #L1 regularization term on weights\n",
    "                     reg_lambda=0.0, #L2 regularization term on weights\n",
    "                     random_state=42\n",
    "                   )\n",
    "clf.fit(X_train_scaled, y_train)\n",
    "\n",
    "\n",
    "y_pred = clf.predict(X_test_scaled)\n",
    "\n",
    "print('Accuracy %s' % accuracy_score(y_test, y_pred))\n",
    "print('F1-score %s' % f1_score(y_test, y_pred, average=None))\n",
    "print(classification_report(y_test, y_pred))"
   ]
  },
  {
   "cell_type": "code",
   "execution_count": null,
   "id": "f843cb53",
   "metadata": {},
   "outputs": [],
   "source": []
  }
 ],
 "metadata": {
  "kernelspec": {
   "display_name": "Python 3 (ipykernel)",
   "language": "python",
   "name": "python3"
  },
  "language_info": {
   "codemirror_mode": {
    "name": "ipython",
    "version": 3
   },
   "file_extension": ".py",
   "mimetype": "text/x-python",
   "name": "python",
   "nbconvert_exporter": "python",
   "pygments_lexer": "ipython3",
   "version": "3.10.14"
  }
 },
 "nbformat": 4,
 "nbformat_minor": 5
}
