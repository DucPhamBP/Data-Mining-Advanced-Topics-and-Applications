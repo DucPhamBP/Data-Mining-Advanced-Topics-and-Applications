{
 "cells": [
  {
   "cell_type": "code",
   "execution_count": 1,
   "id": "f9f6bfa1",
   "metadata": {},
   "outputs": [],
   "source": [
    "import numpy as np\n",
    "import pandas as pd\n",
    "import seaborn as sns\n",
    "import matplotlib.pyplot as plt\n",
    "from sktime.transformations.compose import FitInTransform\n",
    "from sktime.transformations.series.adapt import TabularToSeriesAdaptor\n",
    "from sklearn.preprocessing import StandardScaler, MinMaxScaler\n",
    "from sktime.transformations.panel.compose import ColumnTransformer\n",
    "from sklearn.model_selection import train_test_split\n",
    "from sklearn.preprocessing import LabelEncoder\n",
    "import os"
   ]
  },
  {
   "cell_type": "code",
   "execution_count": 2,
   "id": "43b9ddc4",
   "metadata": {},
   "outputs": [],
   "source": [
    "df = pd.read_csv('dataset filtrato salsa e heavy metal.csv')"
   ]
  },
  {
   "cell_type": "code",
   "execution_count": 11,
   "id": "3a9b0043",
   "metadata": {},
   "outputs": [],
   "source": [
    "df = df.drop(columns = 'Unnamed: 0')"
   ]
  },
  {
   "cell_type": "code",
   "execution_count": 5,
   "id": "18f4cd0d",
   "metadata": {},
   "outputs": [],
   "source": [
    "classes = df['classes']"
   ]
  },
  {
   "cell_type": "code",
   "execution_count": 7,
   "id": "53c46315",
   "metadata": {},
   "outputs": [],
   "source": [
    "classes = np.array(classes)\n"
   ]
  },
  {
   "cell_type": "code",
   "execution_count": 12,
   "id": "5ee43fae",
   "metadata": {},
   "outputs": [],
   "source": [
    "df = df.drop(columns = 'classes')"
   ]
  },
  {
   "cell_type": "code",
   "execution_count": 15,
   "id": "64448571",
   "metadata": {},
   "outputs": [],
   "source": [
    "X_train, X_test, y_train, y_test = train_test_split(df,classes, test_size = 0.3, random_state = 42, stratify = classes)"
   ]
  },
  {
   "cell_type": "code",
   "execution_count": 17,
   "id": "49a15479",
   "metadata": {},
   "outputs": [],
   "source": [
    "scaler = StandardScaler()"
   ]
  },
  {
   "cell_type": "code",
   "execution_count": 18,
   "id": "e318ec58",
   "metadata": {},
   "outputs": [
    {
     "data": {
      "text/html": [
       "<style>#sk-container-id-1 {color: black;background-color: white;}#sk-container-id-1 pre{padding: 0;}#sk-container-id-1 div.sk-toggleable {background-color: white;}#sk-container-id-1 label.sk-toggleable__label {cursor: pointer;display: block;width: 100%;margin-bottom: 0;padding: 0.3em;box-sizing: border-box;text-align: center;}#sk-container-id-1 label.sk-toggleable__label-arrow:before {content: \"▸\";float: left;margin-right: 0.25em;color: #696969;}#sk-container-id-1 label.sk-toggleable__label-arrow:hover:before {color: black;}#sk-container-id-1 div.sk-estimator:hover label.sk-toggleable__label-arrow:before {color: black;}#sk-container-id-1 div.sk-toggleable__content {max-height: 0;max-width: 0;overflow: hidden;text-align: left;background-color: #f0f8ff;}#sk-container-id-1 div.sk-toggleable__content pre {margin: 0.2em;color: black;border-radius: 0.25em;background-color: #f0f8ff;}#sk-container-id-1 input.sk-toggleable__control:checked~div.sk-toggleable__content {max-height: 200px;max-width: 100%;overflow: auto;}#sk-container-id-1 input.sk-toggleable__control:checked~label.sk-toggleable__label-arrow:before {content: \"▾\";}#sk-container-id-1 div.sk-estimator input.sk-toggleable__control:checked~label.sk-toggleable__label {background-color: #d4ebff;}#sk-container-id-1 div.sk-label input.sk-toggleable__control:checked~label.sk-toggleable__label {background-color: #d4ebff;}#sk-container-id-1 input.sk-hidden--visually {border: 0;clip: rect(1px 1px 1px 1px);clip: rect(1px, 1px, 1px, 1px);height: 1px;margin: -1px;overflow: hidden;padding: 0;position: absolute;width: 1px;}#sk-container-id-1 div.sk-estimator {font-family: monospace;background-color: #f0f8ff;border: 1px dotted black;border-radius: 0.25em;box-sizing: border-box;margin-bottom: 0.5em;}#sk-container-id-1 div.sk-estimator:hover {background-color: #d4ebff;}#sk-container-id-1 div.sk-parallel-item::after {content: \"\";width: 100%;border-bottom: 1px solid gray;flex-grow: 1;}#sk-container-id-1 div.sk-label:hover label.sk-toggleable__label {background-color: #d4ebff;}#sk-container-id-1 div.sk-serial::before {content: \"\";position: absolute;border-left: 1px solid gray;box-sizing: border-box;top: 0;bottom: 0;left: 50%;z-index: 0;}#sk-container-id-1 div.sk-serial {display: flex;flex-direction: column;align-items: center;background-color: white;padding-right: 0.2em;padding-left: 0.2em;position: relative;}#sk-container-id-1 div.sk-item {position: relative;z-index: 1;}#sk-container-id-1 div.sk-parallel {display: flex;align-items: stretch;justify-content: center;background-color: white;position: relative;}#sk-container-id-1 div.sk-item::before, #sk-container-id-1 div.sk-parallel-item::before {content: \"\";position: absolute;border-left: 1px solid gray;box-sizing: border-box;top: 0;bottom: 0;left: 50%;z-index: -1;}#sk-container-id-1 div.sk-parallel-item {display: flex;flex-direction: column;z-index: 1;position: relative;background-color: white;}#sk-container-id-1 div.sk-parallel-item:first-child::after {align-self: flex-end;width: 50%;}#sk-container-id-1 div.sk-parallel-item:last-child::after {align-self: flex-start;width: 50%;}#sk-container-id-1 div.sk-parallel-item:only-child::after {width: 0;}#sk-container-id-1 div.sk-dashed-wrapped {border: 1px dashed gray;margin: 0 0.4em 0.5em 0.4em;box-sizing: border-box;padding-bottom: 0.4em;background-color: white;}#sk-container-id-1 div.sk-label label {font-family: monospace;font-weight: bold;display: inline-block;line-height: 1.2em;}#sk-container-id-1 div.sk-label-container {text-align: center;}#sk-container-id-1 div.sk-container {/* jupyter's `normalize.less` sets `[hidden] { display: none; }` but bootstrap.min.css set `[hidden] { display: none !important; }` so we also need the `!important` here to be able to override the default hidden behavior on the sphinx rendered scikit-learn.org. See: https://github.com/scikit-learn/scikit-learn/issues/21755 */display: inline-block !important;position: relative;}#sk-container-id-1 div.sk-text-repr-fallback {display: none;}</style><div id=\"sk-container-id-1\" class=\"sk-top-container\"><div class=\"sk-text-repr-fallback\"><pre>StandardScaler()</pre><b>In a Jupyter environment, please rerun this cell to show the HTML representation or trust the notebook. <br />On GitHub, the HTML representation is unable to render, please try loading this page with nbviewer.org.</b></div><div class=\"sk-container\" hidden><div class=\"sk-item\"><div class=\"sk-estimator sk-toggleable\"><input class=\"sk-toggleable__control sk-hidden--visually\" id=\"sk-estimator-id-1\" type=\"checkbox\" checked><label for=\"sk-estimator-id-1\" class=\"sk-toggleable__label sk-toggleable__label-arrow\">StandardScaler</label><div class=\"sk-toggleable__content\"><pre>StandardScaler()</pre></div></div></div></div></div>"
      ],
      "text/plain": [
       "StandardScaler()"
      ]
     },
     "execution_count": 18,
     "metadata": {},
     "output_type": "execute_result"
    }
   ],
   "source": [
    "scaler.fit(X_train)"
   ]
  },
  {
   "cell_type": "code",
   "execution_count": 20,
   "id": "cace7d17",
   "metadata": {},
   "outputs": [],
   "source": [
    "X_train_scaled, X_test_scaled = scaler.fit_transform(X_train), scaler.fit_transform(X_test)"
   ]
  },
  {
   "cell_type": "code",
   "execution_count": 22,
   "id": "3f8add7f",
   "metadata": {},
   "outputs": [],
   "source": [
    "from sktime.classification.deep_learning import CNNClassifier\n",
    "import tensorflow as tf\n",
    "from tensorflow import keras \n"
   ]
  },
  {
   "cell_type": "code",
   "execution_count": 23,
   "id": "c7e03130",
   "metadata": {},
   "outputs": [],
   "source": [
    "cnn = CNNClassifier(\n",
    "    n_epochs=1000,\n",
    "    batch_size=16,\n",
    "    n_conv_layers=2,\n",
    "    metrics=[\"accuracy\"],\n",
    "    random_state=42,\n",
    "    callbacks=[tf.keras.callbacks.EarlyStopping(patience=2, monitor=\"loss\")],\n",
    ")"
   ]
  },
  {
   "cell_type": "code",
   "execution_count": 24,
   "id": "d3f2b958",
   "metadata": {},
   "outputs": [
    {
     "data": {
      "text/html": [
       "<style>#sk-ffaf85de-65b3-4488-bf54-88673b032b76 {color: black;background-color: white;}#sk-ffaf85de-65b3-4488-bf54-88673b032b76 pre{padding: 0;}#sk-ffaf85de-65b3-4488-bf54-88673b032b76 div.sk-toggleable {background-color: white;}#sk-ffaf85de-65b3-4488-bf54-88673b032b76 label.sk-toggleable__label {cursor: pointer;display: block;width: 100%;margin-bottom: 0;padding: 0.3em;box-sizing: border-box;text-align: center;}#sk-ffaf85de-65b3-4488-bf54-88673b032b76 label.sk-toggleable__label-arrow:before {content: \"▸\";float: left;margin-right: 0.25em;color: #696969;}#sk-ffaf85de-65b3-4488-bf54-88673b032b76 label.sk-toggleable__label-arrow:hover:before {color: black;}#sk-ffaf85de-65b3-4488-bf54-88673b032b76 div.sk-estimator:hover label.sk-toggleable__label-arrow:before {color: black;}#sk-ffaf85de-65b3-4488-bf54-88673b032b76 div.sk-toggleable__content {max-height: 0;max-width: 0;overflow: hidden;text-align: left;background-color: #f0f8ff;}#sk-ffaf85de-65b3-4488-bf54-88673b032b76 div.sk-toggleable__content pre {margin: 0.2em;color: black;border-radius: 0.25em;background-color: #f0f8ff;}#sk-ffaf85de-65b3-4488-bf54-88673b032b76 input.sk-toggleable__control:checked~div.sk-toggleable__content {max-height: 200px;max-width: 100%;overflow: auto;}#sk-ffaf85de-65b3-4488-bf54-88673b032b76 input.sk-toggleable__control:checked~label.sk-toggleable__label-arrow:before {content: \"▾\";}#sk-ffaf85de-65b3-4488-bf54-88673b032b76 div.sk-estimator input.sk-toggleable__control:checked~label.sk-toggleable__label {background-color: #d4ebff;}#sk-ffaf85de-65b3-4488-bf54-88673b032b76 div.sk-label input.sk-toggleable__control:checked~label.sk-toggleable__label {background-color: #d4ebff;}#sk-ffaf85de-65b3-4488-bf54-88673b032b76 input.sk-hidden--visually {border: 0;clip: rect(1px 1px 1px 1px);clip: rect(1px, 1px, 1px, 1px);height: 1px;margin: -1px;overflow: hidden;padding: 0;position: absolute;width: 1px;}#sk-ffaf85de-65b3-4488-bf54-88673b032b76 div.sk-estimator {font-family: monospace;background-color: #f0f8ff;border: 1px dotted black;border-radius: 0.25em;box-sizing: border-box;margin-bottom: 0.5em;}#sk-ffaf85de-65b3-4488-bf54-88673b032b76 div.sk-estimator:hover {background-color: #d4ebff;}#sk-ffaf85de-65b3-4488-bf54-88673b032b76 div.sk-parallel-item::after {content: \"\";width: 100%;border-bottom: 1px solid gray;flex-grow: 1;}#sk-ffaf85de-65b3-4488-bf54-88673b032b76 div.sk-label:hover label.sk-toggleable__label {background-color: #d4ebff;}#sk-ffaf85de-65b3-4488-bf54-88673b032b76 div.sk-serial::before {content: \"\";position: absolute;border-left: 1px solid gray;box-sizing: border-box;top: 2em;bottom: 0;left: 50%;}#sk-ffaf85de-65b3-4488-bf54-88673b032b76 div.sk-serial {display: flex;flex-direction: column;align-items: center;background-color: white;padding-right: 0.2em;padding-left: 0.2em;}#sk-ffaf85de-65b3-4488-bf54-88673b032b76 div.sk-item {z-index: 1;}#sk-ffaf85de-65b3-4488-bf54-88673b032b76 div.sk-parallel {display: flex;align-items: stretch;justify-content: center;background-color: white;}#sk-ffaf85de-65b3-4488-bf54-88673b032b76 div.sk-parallel::before {content: \"\";position: absolute;border-left: 1px solid gray;box-sizing: border-box;top: 2em;bottom: 0;left: 50%;}#sk-ffaf85de-65b3-4488-bf54-88673b032b76 div.sk-parallel-item {display: flex;flex-direction: column;position: relative;background-color: white;}#sk-ffaf85de-65b3-4488-bf54-88673b032b76 div.sk-parallel-item:first-child::after {align-self: flex-end;width: 50%;}#sk-ffaf85de-65b3-4488-bf54-88673b032b76 div.sk-parallel-item:last-child::after {align-self: flex-start;width: 50%;}#sk-ffaf85de-65b3-4488-bf54-88673b032b76 div.sk-parallel-item:only-child::after {width: 0;}#sk-ffaf85de-65b3-4488-bf54-88673b032b76 div.sk-dashed-wrapped {border: 1px dashed gray;margin: 0 0.4em 0.5em 0.4em;box-sizing: border-box;padding-bottom: 0.4em;background-color: white;position: relative;}#sk-ffaf85de-65b3-4488-bf54-88673b032b76 div.sk-label label {font-family: monospace;font-weight: bold;background-color: white;display: inline-block;line-height: 1.2em;}#sk-ffaf85de-65b3-4488-bf54-88673b032b76 div.sk-label-container {position: relative;z-index: 2;text-align: center;}#sk-ffaf85de-65b3-4488-bf54-88673b032b76 div.sk-container {/* jupyter's `normalize.less` sets `[hidden] { display: none; }` but bootstrap.min.css set `[hidden] { display: none !important; }` so we also need the `!important` here to be able to override the default hidden behavior on the sphinx rendered scikit-learn.org. See: https://github.com/scikit-learn/scikit-learn/issues/21755 */display: inline-block !important;position: relative;}#sk-ffaf85de-65b3-4488-bf54-88673b032b76 div.sk-text-repr-fallback {display: none;}</style><div id='sk-ffaf85de-65b3-4488-bf54-88673b032b76' class=\"sk-top-container\"><div class=\"sk-text-repr-fallback\"><pre>CNNClassifier(callbacks=[&lt;keras.src.callbacks.early_stopping.EarlyStopping object at 0x17503a1d0&gt;],\n",
       "              metrics=[&#x27;accuracy&#x27;], n_epochs=1000, random_state=42)</pre><b>Please rerun this cell to show the HTML repr or trust the notebook.</b></div><div class=\"sk-container\" hidden><div class='sk-item'><div class=\"sk-estimator sk-toggleable\"><input class=\"sk-toggleable__control sk-hidden--visually\" id=UUID('b7d78abc-ab51-475a-83af-57c3c1fb438d') type=\"checkbox\" checked><label for=UUID('b7d78abc-ab51-475a-83af-57c3c1fb438d') class='sk-toggleable__label sk-toggleable__label-arrow'>CNNClassifier</label><div class=\"sk-toggleable__content\"><pre>CNNClassifier(callbacks=[&lt;keras.src.callbacks.early_stopping.EarlyStopping object at 0x17503a1d0&gt;],\n",
       "              metrics=[&#x27;accuracy&#x27;], n_epochs=1000, random_state=42)</pre></div></div></div></div></div>"
      ],
      "text/plain": [
       "CNNClassifier(callbacks=[<keras.src.callbacks.early_stopping.EarlyStopping object at 0x17503a1d0>],\n",
       "              metrics=['accuracy'], n_epochs=1000, random_state=42)"
      ]
     },
     "execution_count": 24,
     "metadata": {},
     "output_type": "execute_result"
    }
   ],
   "source": [
    "cnn.fit(X_train_scaled,y_train)\n"
   ]
  },
  {
   "cell_type": "code",
   "execution_count": 25,
   "id": "aafa19bf",
   "metadata": {},
   "outputs": [
    {
     "name": "stdout",
     "output_type": "stream",
     "text": [
      "\u001b[1m19/19\u001b[0m \u001b[32m━━━━━━━━━━━━━━━━━━━━\u001b[0m\u001b[37m\u001b[0m \u001b[1m0s\u001b[0m 2ms/step \n"
     ]
    },
    {
     "data": {
      "text/plain": [
       "0.5533333333333333"
      ]
     },
     "execution_count": 25,
     "metadata": {},
     "output_type": "execute_result"
    }
   ],
   "source": [
    "cnn.score(X_test_scaled, y_test)"
   ]
  },
  {
   "cell_type": "code",
   "execution_count": 30,
   "id": "d72ccc05",
   "metadata": {},
   "outputs": [],
   "source": [
    "from sktime.classification.kernel_based import RocketClassifier\n",
    "from sklearn.metrics import confusion_matrix, classification_report"
   ]
  },
  {
   "cell_type": "code",
   "execution_count": 29,
   "id": "006c3be5",
   "metadata": {},
   "outputs": [
    {
     "data": {
      "text/html": [
       "<style>#sk-b0ef2bee-66db-4254-8f45-eab8eb2b0d16 {color: black;background-color: white;}#sk-b0ef2bee-66db-4254-8f45-eab8eb2b0d16 pre{padding: 0;}#sk-b0ef2bee-66db-4254-8f45-eab8eb2b0d16 div.sk-toggleable {background-color: white;}#sk-b0ef2bee-66db-4254-8f45-eab8eb2b0d16 label.sk-toggleable__label {cursor: pointer;display: block;width: 100%;margin-bottom: 0;padding: 0.3em;box-sizing: border-box;text-align: center;}#sk-b0ef2bee-66db-4254-8f45-eab8eb2b0d16 label.sk-toggleable__label-arrow:before {content: \"▸\";float: left;margin-right: 0.25em;color: #696969;}#sk-b0ef2bee-66db-4254-8f45-eab8eb2b0d16 label.sk-toggleable__label-arrow:hover:before {color: black;}#sk-b0ef2bee-66db-4254-8f45-eab8eb2b0d16 div.sk-estimator:hover label.sk-toggleable__label-arrow:before {color: black;}#sk-b0ef2bee-66db-4254-8f45-eab8eb2b0d16 div.sk-toggleable__content {max-height: 0;max-width: 0;overflow: hidden;text-align: left;background-color: #f0f8ff;}#sk-b0ef2bee-66db-4254-8f45-eab8eb2b0d16 div.sk-toggleable__content pre {margin: 0.2em;color: black;border-radius: 0.25em;background-color: #f0f8ff;}#sk-b0ef2bee-66db-4254-8f45-eab8eb2b0d16 input.sk-toggleable__control:checked~div.sk-toggleable__content {max-height: 200px;max-width: 100%;overflow: auto;}#sk-b0ef2bee-66db-4254-8f45-eab8eb2b0d16 input.sk-toggleable__control:checked~label.sk-toggleable__label-arrow:before {content: \"▾\";}#sk-b0ef2bee-66db-4254-8f45-eab8eb2b0d16 div.sk-estimator input.sk-toggleable__control:checked~label.sk-toggleable__label {background-color: #d4ebff;}#sk-b0ef2bee-66db-4254-8f45-eab8eb2b0d16 div.sk-label input.sk-toggleable__control:checked~label.sk-toggleable__label {background-color: #d4ebff;}#sk-b0ef2bee-66db-4254-8f45-eab8eb2b0d16 input.sk-hidden--visually {border: 0;clip: rect(1px 1px 1px 1px);clip: rect(1px, 1px, 1px, 1px);height: 1px;margin: -1px;overflow: hidden;padding: 0;position: absolute;width: 1px;}#sk-b0ef2bee-66db-4254-8f45-eab8eb2b0d16 div.sk-estimator {font-family: monospace;background-color: #f0f8ff;border: 1px dotted black;border-radius: 0.25em;box-sizing: border-box;margin-bottom: 0.5em;}#sk-b0ef2bee-66db-4254-8f45-eab8eb2b0d16 div.sk-estimator:hover {background-color: #d4ebff;}#sk-b0ef2bee-66db-4254-8f45-eab8eb2b0d16 div.sk-parallel-item::after {content: \"\";width: 100%;border-bottom: 1px solid gray;flex-grow: 1;}#sk-b0ef2bee-66db-4254-8f45-eab8eb2b0d16 div.sk-label:hover label.sk-toggleable__label {background-color: #d4ebff;}#sk-b0ef2bee-66db-4254-8f45-eab8eb2b0d16 div.sk-serial::before {content: \"\";position: absolute;border-left: 1px solid gray;box-sizing: border-box;top: 2em;bottom: 0;left: 50%;}#sk-b0ef2bee-66db-4254-8f45-eab8eb2b0d16 div.sk-serial {display: flex;flex-direction: column;align-items: center;background-color: white;padding-right: 0.2em;padding-left: 0.2em;}#sk-b0ef2bee-66db-4254-8f45-eab8eb2b0d16 div.sk-item {z-index: 1;}#sk-b0ef2bee-66db-4254-8f45-eab8eb2b0d16 div.sk-parallel {display: flex;align-items: stretch;justify-content: center;background-color: white;}#sk-b0ef2bee-66db-4254-8f45-eab8eb2b0d16 div.sk-parallel::before {content: \"\";position: absolute;border-left: 1px solid gray;box-sizing: border-box;top: 2em;bottom: 0;left: 50%;}#sk-b0ef2bee-66db-4254-8f45-eab8eb2b0d16 div.sk-parallel-item {display: flex;flex-direction: column;position: relative;background-color: white;}#sk-b0ef2bee-66db-4254-8f45-eab8eb2b0d16 div.sk-parallel-item:first-child::after {align-self: flex-end;width: 50%;}#sk-b0ef2bee-66db-4254-8f45-eab8eb2b0d16 div.sk-parallel-item:last-child::after {align-self: flex-start;width: 50%;}#sk-b0ef2bee-66db-4254-8f45-eab8eb2b0d16 div.sk-parallel-item:only-child::after {width: 0;}#sk-b0ef2bee-66db-4254-8f45-eab8eb2b0d16 div.sk-dashed-wrapped {border: 1px dashed gray;margin: 0 0.4em 0.5em 0.4em;box-sizing: border-box;padding-bottom: 0.4em;background-color: white;position: relative;}#sk-b0ef2bee-66db-4254-8f45-eab8eb2b0d16 div.sk-label label {font-family: monospace;font-weight: bold;background-color: white;display: inline-block;line-height: 1.2em;}#sk-b0ef2bee-66db-4254-8f45-eab8eb2b0d16 div.sk-label-container {position: relative;z-index: 2;text-align: center;}#sk-b0ef2bee-66db-4254-8f45-eab8eb2b0d16 div.sk-container {/* jupyter's `normalize.less` sets `[hidden] { display: none; }` but bootstrap.min.css set `[hidden] { display: none !important; }` so we also need the `!important` here to be able to override the default hidden behavior on the sphinx rendered scikit-learn.org. See: https://github.com/scikit-learn/scikit-learn/issues/21755 */display: inline-block !important;position: relative;}#sk-b0ef2bee-66db-4254-8f45-eab8eb2b0d16 div.sk-text-repr-fallback {display: none;}</style><div id='sk-b0ef2bee-66db-4254-8f45-eab8eb2b0d16' class=\"sk-top-container\"><div class=\"sk-text-repr-fallback\"><pre>RocketClassifier(num_kernels=500)</pre><b>Please rerun this cell to show the HTML repr or trust the notebook.</b></div><div class=\"sk-container\" hidden><div class='sk-item'><div class=\"sk-estimator sk-toggleable\"><input class=\"sk-toggleable__control sk-hidden--visually\" id=UUID('16ba5ef7-2e19-43cd-b4e1-b93dab6575ec') type=\"checkbox\" checked><label for=UUID('16ba5ef7-2e19-43cd-b4e1-b93dab6575ec') class='sk-toggleable__label sk-toggleable__label-arrow'>RocketClassifier</label><div class=\"sk-toggleable__content\"><pre>RocketClassifier(num_kernels=500)</pre></div></div></div></div></div>"
      ],
      "text/plain": [
       "RocketClassifier(num_kernels=500)"
      ]
     },
     "execution_count": 29,
     "metadata": {},
     "output_type": "execute_result"
    }
   ],
   "source": [
    "clf = RocketClassifier(num_kernels=500)\n",
    "clf.fit(X_train_scaled, y_train)"
   ]
  },
  {
   "cell_type": "code",
   "execution_count": 31,
   "id": "7debd05f",
   "metadata": {},
   "outputs": [],
   "source": [
    "\n",
    "\n",
    "y_pred = clf.predict(X_test_scaled)\n",
    "\n",
    "\n",
    "conf_matrix = confusion_matrix(y_test, y_pred)"
   ]
  },
  {
   "cell_type": "code",
   "execution_count": 33,
   "id": "76878dd1",
   "metadata": {},
   "outputs": [
    {
     "data": {
      "image/png": "[encoded data removed]",
      "text/plain": [
       "<Figure size 800x600 with 1 Axes>"
      ]
     },
     "metadata": {},
     "output_type": "display_data"
    }
   ],
   "source": [
    "plt.figure(figsize=(8, 6))\n",
    "sns.heatmap(conf_matrix, annot=True, fmt='d', cmap='Blues', cbar=False)\n",
    "plt.xlabel('Predicted Labels')\n",
    "plt.ylabel('True Labels')\n",
    "plt.title('Confusion Matrix')\n",
    "plt.show()\n"
   ]
  },
  {
   "cell_type": "code",
   "execution_count": 34,
   "id": "9c8b0f27",
   "metadata": {},
   "outputs": [
    {
     "name": "stdout",
     "output_type": "stream",
     "text": [
      "              precision    recall  f1-score   support\n",
      "\n",
      " heavy-metal       0.69      0.68      0.68       150\n",
      "       salsa       0.68      0.69      0.69       150\n",
      "\n",
      "    accuracy                           0.69       300\n",
      "   macro avg       0.69      0.69      0.69       300\n",
      "weighted avg       0.69      0.69      0.69       300\n",
      "\n"
     ]
    }
   ],
   "source": [
    "print(classification_report(y_test,y_pred))"
   ]
  },
  {
   "cell_type": "code",
   "execution_count": null,
   "id": "4a6c9bfc",
   "metadata": {},
   "outputs": [
    {
     "name": "stdout",
     "output_type": "stream",
     "text": [
      "Classification Report:\n",
      "               precision    recall  f1-score   support\n",
      "\n",
      " heavy-metal       0.69      0.68      0.68       150\n",
      "       salsa       0.68      0.69      0.69       150\n",
      "\n",
      "    accuracy                           0.69       300\n",
      "   macro avg       0.69      0.69      0.69       300\n",
      "weighted avg       0.69      0.69      0.69       300\n",
      "\n"
     ]
    }
   ],
   "source": [
    "class_report = classification_report(y_test, y_pred)\n",
    "print(\"Classification Report:\\n\", class_report)"
   ]
  },
  {
   "cell_type": "code",
   "execution_count": 46,
   "id": "40e41d83",
   "metadata": {},
   "outputs": [],
   "source": [
    "from sklearn.model_selection import GridSearchCV, cross_val_score\n",
    "from sktime.transformations.panel.rocket import Rocket\n",
    "from sklearn.pipeline import Pipeline\n",
    "param_grid = {\n",
    "    'num_kernels': [1000, 5000, 10000],\n",
    "    'rocket_transform': ['rocket', 'minirocket']  # esempio di parametri da ottimizzare\n",
    "}"
   ]
  },
  {
   "cell_type": "code",
   "execution_count": null,
   "id": "3a0a6120",
   "metadata": {},
   "outputs": [],
   "source": [
    "rocket = Rocket()\n",
    "rocket_classifier = RocketClassifier()\n",
    "\n",
    "# define pipeline\n",
    "pipeline = Pipeline([\n",
    "    ('rocket', rocket),\n",
    "    ('classifier', rocket_classifier)\n",
    "])"
   ]
  },
  {
   "cell_type": "code",
   "execution_count": null,
   "id": "9c1d4e1f",
   "metadata": {},
   "outputs": [],
   "source": [
    "# parameter tuning \n",
    "\n",
    "grid_search = GridSearchCV(estimator= rocket_classifier , param_grid=param_grid, cv=3,  verbose=2)\n"
   ]
  },
  {
   "cell_type": "code",
   "execution_count": 48,
   "id": "0c011200",
   "metadata": {},
   "outputs": [
    {
     "name": "stdout",
     "output_type": "stream",
     "text": [
      "Fitting 3 folds for each of 6 candidates, totalling 18 fits\n",
      "[CV] END ..........num_kernels=1000, rocket_transform=rocket; total time=   1.4s\n",
      "[CV] END ..........num_kernels=1000, rocket_transform=rocket; total time=   1.5s\n",
      "[CV] END ..........num_kernels=1000, rocket_transform=rocket; total time=   1.8s\n",
      "[CV] END ......num_kernels=1000, rocket_transform=minirocket; total time=   5.2s\n",
      "[CV] END ......num_kernels=1000, rocket_transform=minirocket; total time=   0.3s\n",
      "[CV] END ......num_kernels=1000, rocket_transform=minirocket; total time=   0.3s\n",
      "[CV] END ..........num_kernels=5000, rocket_transform=rocket; total time=   8.1s\n",
      "[CV] END ..........num_kernels=5000, rocket_transform=rocket; total time=   8.2s\n",
      "[CV] END ..........num_kernels=5000, rocket_transform=rocket; total time=   8.1s\n",
      "[CV] END ......num_kernels=5000, rocket_transform=minirocket; total time=   1.3s\n",
      "[CV] END ......num_kernels=5000, rocket_transform=minirocket; total time=   1.2s\n",
      "[CV] END ......num_kernels=5000, rocket_transform=minirocket; total time=   1.2s\n",
      "[CV] END .........num_kernels=10000, rocket_transform=rocket; total time=  19.7s\n",
      "[CV] END .........num_kernels=10000, rocket_transform=rocket; total time=  19.9s\n",
      "[CV] END .........num_kernels=10000, rocket_transform=rocket; total time=  19.7s\n",
      "[CV] END .....num_kernels=10000, rocket_transform=minirocket; total time=   3.1s\n",
      "[CV] END .....num_kernels=10000, rocket_transform=minirocket; total time=   3.1s\n",
      "[CV] END .....num_kernels=10000, rocket_transform=minirocket; total time=   3.1s\n"
     ]
    },
    {
     "data": {
      "text/html": [
       "<style>#sk-container-id-2 {color: black;background-color: white;}#sk-container-id-2 pre{padding: 0;}#sk-container-id-2 div.sk-toggleable {background-color: white;}#sk-container-id-2 label.sk-toggleable__label {cursor: pointer;display: block;width: 100%;margin-bottom: 0;padding: 0.3em;box-sizing: border-box;text-align: center;}#sk-container-id-2 label.sk-toggleable__label-arrow:before {content: \"▸\";float: left;margin-right: 0.25em;color: #696969;}#sk-container-id-2 label.sk-toggleable__label-arrow:hover:before {color: black;}#sk-container-id-2 div.sk-estimator:hover label.sk-toggleable__label-arrow:before {color: black;}#sk-container-id-2 div.sk-toggleable__content {max-height: 0;max-width: 0;overflow: hidden;text-align: left;background-color: #f0f8ff;}#sk-container-id-2 div.sk-toggleable__content pre {margin: 0.2em;color: black;border-radius: 0.25em;background-color: #f0f8ff;}#sk-container-id-2 input.sk-toggleable__control:checked~div.sk-toggleable__content {max-height: 200px;max-width: 100%;overflow: auto;}#sk-container-id-2 input.sk-toggleable__control:checked~label.sk-toggleable__label-arrow:before {content: \"▾\";}#sk-container-id-2 div.sk-estimator input.sk-toggleable__control:checked~label.sk-toggleable__label {background-color: #d4ebff;}#sk-container-id-2 div.sk-label input.sk-toggleable__control:checked~label.sk-toggleable__label {background-color: #d4ebff;}#sk-container-id-2 input.sk-hidden--visually {border: 0;clip: rect(1px 1px 1px 1px);clip: rect(1px, 1px, 1px, 1px);height: 1px;margin: -1px;overflow: hidden;padding: 0;position: absolute;width: 1px;}#sk-container-id-2 div.sk-estimator {font-family: monospace;background-color: #f0f8ff;border: 1px dotted black;border-radius: 0.25em;box-sizing: border-box;margin-bottom: 0.5em;}#sk-container-id-2 div.sk-estimator:hover {background-color: #d4ebff;}#sk-container-id-2 div.sk-parallel-item::after {content: \"\";width: 100%;border-bottom: 1px solid gray;flex-grow: 1;}#sk-container-id-2 div.sk-label:hover label.sk-toggleable__label {background-color: #d4ebff;}#sk-container-id-2 div.sk-serial::before {content: \"\";position: absolute;border-left: 1px solid gray;box-sizing: border-box;top: 0;bottom: 0;left: 50%;z-index: 0;}#sk-container-id-2 div.sk-serial {display: flex;flex-direction: column;align-items: center;background-color: white;padding-right: 0.2em;padding-left: 0.2em;position: relative;}#sk-container-id-2 div.sk-item {position: relative;z-index: 1;}#sk-container-id-2 div.sk-parallel {display: flex;align-items: stretch;justify-content: center;background-color: white;position: relative;}#sk-container-id-2 div.sk-item::before, #sk-container-id-2 div.sk-parallel-item::before {content: \"\";position: absolute;border-left: 1px solid gray;box-sizing: border-box;top: 0;bottom: 0;left: 50%;z-index: -1;}#sk-container-id-2 div.sk-parallel-item {display: flex;flex-direction: column;z-index: 1;position: relative;background-color: white;}#sk-container-id-2 div.sk-parallel-item:first-child::after {align-self: flex-end;width: 50%;}#sk-container-id-2 div.sk-parallel-item:last-child::after {align-self: flex-start;width: 50%;}#sk-container-id-2 div.sk-parallel-item:only-child::after {width: 0;}#sk-container-id-2 div.sk-dashed-wrapped {border: 1px dashed gray;margin: 0 0.4em 0.5em 0.4em;box-sizing: border-box;padding-bottom: 0.4em;background-color: white;}#sk-container-id-2 div.sk-label label {font-family: monospace;font-weight: bold;display: inline-block;line-height: 1.2em;}#sk-container-id-2 div.sk-label-container {text-align: center;}#sk-container-id-2 div.sk-container {/* jupyter's `normalize.less` sets `[hidden] { display: none; }` but bootstrap.min.css set `[hidden] { display: none !important; }` so we also need the `!important` here to be able to override the default hidden behavior on the sphinx rendered scikit-learn.org. See: https://github.com/scikit-learn/scikit-learn/issues/21755 */display: inline-block !important;position: relative;}#sk-container-id-2 div.sk-text-repr-fallback {display: none;}</style><div id=\"sk-container-id-2\" class=\"sk-top-container\"><div class=\"sk-text-repr-fallback\"><pre>GridSearchCV(cv=3, estimator=RocketClassifier(),\n",
       "             param_grid={&#x27;num_kernels&#x27;: [1000, 5000, 10000],\n",
       "                         &#x27;rocket_transform&#x27;: [&#x27;rocket&#x27;, &#x27;minirocket&#x27;]},\n",
       "             verbose=2)</pre><b>In a Jupyter environment, please rerun this cell to show the HTML representation or trust the notebook. <br />On GitHub, the HTML representation is unable to render, please try loading this page with nbviewer.org.</b></div><div class=\"sk-container\" hidden><div class=\"sk-item sk-dashed-wrapped\"><div class=\"sk-label-container\"><div class=\"sk-label sk-toggleable\"><input class=\"sk-toggleable__control sk-hidden--visually\" id=\"sk-estimator-id-2\" type=\"checkbox\" ><label for=\"sk-estimator-id-2\" class=\"sk-toggleable__label sk-toggleable__label-arrow\">GridSearchCV</label><div class=\"sk-toggleable__content\"><pre>GridSearchCV(cv=3, estimator=RocketClassifier(),\n",
       "             param_grid={&#x27;num_kernels&#x27;: [1000, 5000, 10000],\n",
       "                         &#x27;rocket_transform&#x27;: [&#x27;rocket&#x27;, &#x27;minirocket&#x27;]},\n",
       "             verbose=2)</pre></div></div></div><div class=\"sk-parallel\"><div class=\"sk-parallel-item\"><div class=\"sk-item\"><div class=\"sk-label-container\"><div class=\"sk-label sk-toggleable\"><input class=\"sk-toggleable__control sk-hidden--visually\" id=\"sk-estimator-id-3\" type=\"checkbox\" ><label for=\"sk-estimator-id-3\" class=\"sk-toggleable__label sk-toggleable__label-arrow\">estimator: RocketClassifier</label><div class=\"sk-toggleable__content\"><pre>RocketClassifier()</pre></div></div></div><div class=\"sk-serial\"><div class=\"sk-item\"><div class=\"sk-estimator sk-toggleable\"><input class=\"sk-toggleable__control sk-hidden--visually\" id=\"sk-estimator-id-4\" type=\"checkbox\" ><label for=\"sk-estimator-id-4\" class=\"sk-toggleable__label sk-toggleable__label-arrow\">RocketClassifier</label><div class=\"sk-toggleable__content\"><pre>RocketClassifier()</pre></div></div></div></div></div></div></div></div></div></div>"
      ],
      "text/plain": [
       "GridSearchCV(cv=3, estimator=RocketClassifier(),\n",
       "             param_grid={'num_kernels': [1000, 5000, 10000],\n",
       "                         'rocket_transform': ['rocket', 'minirocket']},\n",
       "             verbose=2)"
      ]
     },
     "execution_count": 48,
     "metadata": {},
     "output_type": "execute_result"
    }
   ],
   "source": [
    "grid_search.fit(X_train_scaled, y_train)"
   ]
  },
  {
   "cell_type": "code",
   "execution_count": 49,
   "id": "900a5a04",
   "metadata": {},
   "outputs": [],
   "source": [
    "best_parameters = grid_search.best_params_"
   ]
  },
  {
   "cell_type": "code",
   "execution_count": 50,
   "id": "43369b52",
   "metadata": {},
   "outputs": [
    {
     "name": "stdout",
     "output_type": "stream",
     "text": [
      "best parameters for rocketclassifier are: {'num_kernels': 10000, 'rocket_transform': 'rocket'}\n"
     ]
    }
   ],
   "source": [
    "print('best parameters for rocketclassifier are: {}'.format(best_parameters))"
   ]
  },
  {
   "cell_type": "code",
   "execution_count": 51,
   "id": "770feac2",
   "metadata": {},
   "outputs": [],
   "source": [
    "rocket_cfl = RocketClassifier(num_kernels=10000, rocket_transform = 'rocket')\n"
   ]
  },
  {
   "cell_type": "code",
   "execution_count": 53,
   "id": "d5da6f6f",
   "metadata": {},
   "outputs": [
    {
     "data": {
      "text/html": [
       "<style>#sk-bc2fa9fd-a2a3-4201-be07-649c7f835913 {color: black;background-color: white;}#sk-bc2fa9fd-a2a3-4201-be07-649c7f835913 pre{padding: 0;}#sk-bc2fa9fd-a2a3-4201-be07-649c7f835913 div.sk-toggleable {background-color: white;}#sk-bc2fa9fd-a2a3-4201-be07-649c7f835913 label.sk-toggleable__label {cursor: pointer;display: block;width: 100%;margin-bottom: 0;padding: 0.3em;box-sizing: border-box;text-align: center;}#sk-bc2fa9fd-a2a3-4201-be07-649c7f835913 label.sk-toggleable__label-arrow:before {content: \"▸\";float: left;margin-right: 0.25em;color: #696969;}#sk-bc2fa9fd-a2a3-4201-be07-649c7f835913 label.sk-toggleable__label-arrow:hover:before {color: black;}#sk-bc2fa9fd-a2a3-4201-be07-649c7f835913 div.sk-estimator:hover label.sk-toggleable__label-arrow:before {color: black;}#sk-bc2fa9fd-a2a3-4201-be07-649c7f835913 div.sk-toggleable__content {max-height: 0;max-width: 0;overflow: hidden;text-align: left;background-color: #f0f8ff;}#sk-bc2fa9fd-a2a3-4201-be07-649c7f835913 div.sk-toggleable__content pre {margin: 0.2em;color: black;border-radius: 0.25em;background-color: #f0f8ff;}#sk-bc2fa9fd-a2a3-4201-be07-649c7f835913 input.sk-toggleable__control:checked~div.sk-toggleable__content {max-height: 200px;max-width: 100%;overflow: auto;}#sk-bc2fa9fd-a2a3-4201-be07-649c7f835913 input.sk-toggleable__control:checked~label.sk-toggleable__label-arrow:before {content: \"▾\";}#sk-bc2fa9fd-a2a3-4201-be07-649c7f835913 div.sk-estimator input.sk-toggleable__control:checked~label.sk-toggleable__label {background-color: #d4ebff;}#sk-bc2fa9fd-a2a3-4201-be07-649c7f835913 div.sk-label input.sk-toggleable__control:checked~label.sk-toggleable__label {background-color: #d4ebff;}#sk-bc2fa9fd-a2a3-4201-be07-649c7f835913 input.sk-hidden--visually {border: 0;clip: rect(1px 1px 1px 1px);clip: rect(1px, 1px, 1px, 1px);height: 1px;margin: -1px;overflow: hidden;padding: 0;position: absolute;width: 1px;}#sk-bc2fa9fd-a2a3-4201-be07-649c7f835913 div.sk-estimator {font-family: monospace;background-color: #f0f8ff;border: 1px dotted black;border-radius: 0.25em;box-sizing: border-box;margin-bottom: 0.5em;}#sk-bc2fa9fd-a2a3-4201-be07-649c7f835913 div.sk-estimator:hover {background-color: #d4ebff;}#sk-bc2fa9fd-a2a3-4201-be07-649c7f835913 div.sk-parallel-item::after {content: \"\";width: 100%;border-bottom: 1px solid gray;flex-grow: 1;}#sk-bc2fa9fd-a2a3-4201-be07-649c7f835913 div.sk-label:hover label.sk-toggleable__label {background-color: #d4ebff;}#sk-bc2fa9fd-a2a3-4201-be07-649c7f835913 div.sk-serial::before {content: \"\";position: absolute;border-left: 1px solid gray;box-sizing: border-box;top: 2em;bottom: 0;left: 50%;}#sk-bc2fa9fd-a2a3-4201-be07-649c7f835913 div.sk-serial {display: flex;flex-direction: column;align-items: center;background-color: white;padding-right: 0.2em;padding-left: 0.2em;}#sk-bc2fa9fd-a2a3-4201-be07-649c7f835913 div.sk-item {z-index: 1;}#sk-bc2fa9fd-a2a3-4201-be07-649c7f835913 div.sk-parallel {display: flex;align-items: stretch;justify-content: center;background-color: white;}#sk-bc2fa9fd-a2a3-4201-be07-649c7f835913 div.sk-parallel::before {content: \"\";position: absolute;border-left: 1px solid gray;box-sizing: border-box;top: 2em;bottom: 0;left: 50%;}#sk-bc2fa9fd-a2a3-4201-be07-649c7f835913 div.sk-parallel-item {display: flex;flex-direction: column;position: relative;background-color: white;}#sk-bc2fa9fd-a2a3-4201-be07-649c7f835913 div.sk-parallel-item:first-child::after {align-self: flex-end;width: 50%;}#sk-bc2fa9fd-a2a3-4201-be07-649c7f835913 div.sk-parallel-item:last-child::after {align-self: flex-start;width: 50%;}#sk-bc2fa9fd-a2a3-4201-be07-649c7f835913 div.sk-parallel-item:only-child::after {width: 0;}#sk-bc2fa9fd-a2a3-4201-be07-649c7f835913 div.sk-dashed-wrapped {border: 1px dashed gray;margin: 0 0.4em 0.5em 0.4em;box-sizing: border-box;padding-bottom: 0.4em;background-color: white;position: relative;}#sk-bc2fa9fd-a2a3-4201-be07-649c7f835913 div.sk-label label {font-family: monospace;font-weight: bold;background-color: white;display: inline-block;line-height: 1.2em;}#sk-bc2fa9fd-a2a3-4201-be07-649c7f835913 div.sk-label-container {position: relative;z-index: 2;text-align: center;}#sk-bc2fa9fd-a2a3-4201-be07-649c7f835913 div.sk-container {/* jupyter's `normalize.less` sets `[hidden] { display: none; }` but bootstrap.min.css set `[hidden] { display: none !important; }` so we also need the `!important` here to be able to override the default hidden behavior on the sphinx rendered scikit-learn.org. See: https://github.com/scikit-learn/scikit-learn/issues/21755 */display: inline-block !important;position: relative;}#sk-bc2fa9fd-a2a3-4201-be07-649c7f835913 div.sk-text-repr-fallback {display: none;}</style><div id='sk-bc2fa9fd-a2a3-4201-be07-649c7f835913' class=\"sk-top-container\"><div class=\"sk-text-repr-fallback\"><pre>RocketClassifier()</pre><b>Please rerun this cell to show the HTML repr or trust the notebook.</b></div><div class=\"sk-container\" hidden><div class='sk-item'><div class=\"sk-estimator sk-toggleable\"><input class=\"sk-toggleable__control sk-hidden--visually\" id=UUID('ac6e294a-a725-4fa9-8e51-2690f4e08396') type=\"checkbox\" checked><label for=UUID('ac6e294a-a725-4fa9-8e51-2690f4e08396') class='sk-toggleable__label sk-toggleable__label-arrow'>RocketClassifier</label><div class=\"sk-toggleable__content\"><pre>RocketClassifier()</pre></div></div></div></div></div>"
      ],
      "text/plain": [
       "RocketClassifier()"
      ]
     },
     "execution_count": 53,
     "metadata": {},
     "output_type": "execute_result"
    }
   ],
   "source": [
    "rocket_cfl.fit(X_train_scaled,y_train)"
   ]
  },
  {
   "cell_type": "code",
   "execution_count": 54,
   "id": "c5eb71fb",
   "metadata": {},
   "outputs": [],
   "source": [
    "y_predicted = rocket_cfl.predict(X_test_scaled)"
   ]
  },
  {
   "cell_type": "code",
   "execution_count": 55,
   "id": "5a6758d5",
   "metadata": {},
   "outputs": [
    {
     "name": "stdout",
     "output_type": "stream",
     "text": [
      "the classification report for rocket classifier with hyperparameter tuning is \n",
      "               precision    recall  f1-score   support\n",
      "\n",
      " heavy-metal       0.70      0.71      0.70       150\n",
      "       salsa       0.70      0.69      0.70       150\n",
      "\n",
      "    accuracy                           0.70       300\n",
      "   macro avg       0.70      0.70      0.70       300\n",
      "weighted avg       0.70      0.70      0.70       300\n",
      "\n"
     ]
    }
   ],
   "source": [
    "print ('the classification report for rocket classifier with hyperparameter tuning is \\n', classification_report(y_test,y_predicted))"
   ]
  },
  {
   "cell_type": "code",
   "execution_count": 57,
   "id": "44d7a6af",
   "metadata": {},
   "outputs": [],
   "source": [
    "from sktime.classification.shapelet_based import MrSEQL"
   ]
  },
  {
   "cell_type": "code",
   "execution_count": 59,
   "id": "f8a39e08",
   "metadata": {},
   "outputs": [
    {
     "name": "stdout",
     "output_type": "stream",
     "text": [
      "Collecting mrseql\n",
      "  Downloading mrseql-0.0.2.tar.gz (146 kB)\n",
      "\u001b[2K     \u001b[90m━━━━━━━━━━━━━━━━━━━━━━━━━━━━━━━━━━━━━━━\u001b[0m \u001b[32m146.4/146.4 kB\u001b[0m \u001b[31m2.7 MB/s\u001b[0m eta \u001b[36m0:00:00\u001b[0m00:01\u001b[0m\n",
      "\u001b[?25h  Installing build dependencies ... \u001b[?25ldone\n",
      "\u001b[?25h  Getting requirements to build wheel ... \u001b[?25ldone\n",
      "\u001b[?25h  Preparing metadata (pyproject.toml) ... \u001b[?25ldone\n",
      "\u001b[?25hBuilding wheels for collected packages: mrseql\n",
      "  Building wheel for mrseql (pyproject.toml) ... \u001b[?25ldone\n",
      "\u001b[?25h  Created wheel for mrseql: filename=mrseql-0.0.2-cp310-cp310-macosx_11_0_arm64.whl size=129444 sha256=f4dbeae1d70c4bc822317b0ae74704646d79f2ab7ca2ac622912d7d3bc052cea\n",
      "  Stored in directory: /Users/thomasgonzo/Library/Caches/pip/wheels/b9/b1/4f/7b48feae66082015479298644876eb75461bddb1fac91daa56\n",
      "Successfully built mrseql\n",
      "Installing collected packages: mrseql\n",
      "Successfully installed mrseql-0.0.2\n"
     ]
    }
   ],
   "source": [
    "!pip install mrseql"
   ]
  },
  {
   "cell_type": "code",
   "execution_count": 60,
   "id": "ae93b745",
   "metadata": {},
   "outputs": [],
   "source": [
    "seql = MrSEQL(symrep = 'sax')"
   ]
  },
  {
   "cell_type": "code",
   "execution_count": 61,
   "id": "e316fa88",
   "metadata": {},
   "outputs": [
    {
     "data": {
      "text/html": [
       "<style>#sk-4ca70d78-f501-4c08-88b8-ad36a1f1e5a5 {color: black;background-color: white;}#sk-4ca70d78-f501-4c08-88b8-ad36a1f1e5a5 pre{padding: 0;}#sk-4ca70d78-f501-4c08-88b8-ad36a1f1e5a5 div.sk-toggleable {background-color: white;}#sk-4ca70d78-f501-4c08-88b8-ad36a1f1e5a5 label.sk-toggleable__label {cursor: pointer;display: block;width: 100%;margin-bottom: 0;padding: 0.3em;box-sizing: border-box;text-align: center;}#sk-4ca70d78-f501-4c08-88b8-ad36a1f1e5a5 label.sk-toggleable__label-arrow:before {content: \"▸\";float: left;margin-right: 0.25em;color: #696969;}#sk-4ca70d78-f501-4c08-88b8-ad36a1f1e5a5 label.sk-toggleable__label-arrow:hover:before {color: black;}#sk-4ca70d78-f501-4c08-88b8-ad36a1f1e5a5 div.sk-estimator:hover label.sk-toggleable__label-arrow:before {color: black;}#sk-4ca70d78-f501-4c08-88b8-ad36a1f1e5a5 div.sk-toggleable__content {max-height: 0;max-width: 0;overflow: hidden;text-align: left;background-color: #f0f8ff;}#sk-4ca70d78-f501-4c08-88b8-ad36a1f1e5a5 div.sk-toggleable__content pre {margin: 0.2em;color: black;border-radius: 0.25em;background-color: #f0f8ff;}#sk-4ca70d78-f501-4c08-88b8-ad36a1f1e5a5 input.sk-toggleable__control:checked~div.sk-toggleable__content {max-height: 200px;max-width: 100%;overflow: auto;}#sk-4ca70d78-f501-4c08-88b8-ad36a1f1e5a5 input.sk-toggleable__control:checked~label.sk-toggleable__label-arrow:before {content: \"▾\";}#sk-4ca70d78-f501-4c08-88b8-ad36a1f1e5a5 div.sk-estimator input.sk-toggleable__control:checked~label.sk-toggleable__label {background-color: #d4ebff;}#sk-4ca70d78-f501-4c08-88b8-ad36a1f1e5a5 div.sk-label input.sk-toggleable__control:checked~label.sk-toggleable__label {background-color: #d4ebff;}#sk-4ca70d78-f501-4c08-88b8-ad36a1f1e5a5 input.sk-hidden--visually {border: 0;clip: rect(1px 1px 1px 1px);clip: rect(1px, 1px, 1px, 1px);height: 1px;margin: -1px;overflow: hidden;padding: 0;position: absolute;width: 1px;}#sk-4ca70d78-f501-4c08-88b8-ad36a1f1e5a5 div.sk-estimator {font-family: monospace;background-color: #f0f8ff;border: 1px dotted black;border-radius: 0.25em;box-sizing: border-box;margin-bottom: 0.5em;}#sk-4ca70d78-f501-4c08-88b8-ad36a1f1e5a5 div.sk-estimator:hover {background-color: #d4ebff;}#sk-4ca70d78-f501-4c08-88b8-ad36a1f1e5a5 div.sk-parallel-item::after {content: \"\";width: 100%;border-bottom: 1px solid gray;flex-grow: 1;}#sk-4ca70d78-f501-4c08-88b8-ad36a1f1e5a5 div.sk-label:hover label.sk-toggleable__label {background-color: #d4ebff;}#sk-4ca70d78-f501-4c08-88b8-ad36a1f1e5a5 div.sk-serial::before {content: \"\";position: absolute;border-left: 1px solid gray;box-sizing: border-box;top: 2em;bottom: 0;left: 50%;}#sk-4ca70d78-f501-4c08-88b8-ad36a1f1e5a5 div.sk-serial {display: flex;flex-direction: column;align-items: center;background-color: white;padding-right: 0.2em;padding-left: 0.2em;}#sk-4ca70d78-f501-4c08-88b8-ad36a1f1e5a5 div.sk-item {z-index: 1;}#sk-4ca70d78-f501-4c08-88b8-ad36a1f1e5a5 div.sk-parallel {display: flex;align-items: stretch;justify-content: center;background-color: white;}#sk-4ca70d78-f501-4c08-88b8-ad36a1f1e5a5 div.sk-parallel::before {content: \"\";position: absolute;border-left: 1px solid gray;box-sizing: border-box;top: 2em;bottom: 0;left: 50%;}#sk-4ca70d78-f501-4c08-88b8-ad36a1f1e5a5 div.sk-parallel-item {display: flex;flex-direction: column;position: relative;background-color: white;}#sk-4ca70d78-f501-4c08-88b8-ad36a1f1e5a5 div.sk-parallel-item:first-child::after {align-self: flex-end;width: 50%;}#sk-4ca70d78-f501-4c08-88b8-ad36a1f1e5a5 div.sk-parallel-item:last-child::after {align-self: flex-start;width: 50%;}#sk-4ca70d78-f501-4c08-88b8-ad36a1f1e5a5 div.sk-parallel-item:only-child::after {width: 0;}#sk-4ca70d78-f501-4c08-88b8-ad36a1f1e5a5 div.sk-dashed-wrapped {border: 1px dashed gray;margin: 0 0.4em 0.5em 0.4em;box-sizing: border-box;padding-bottom: 0.4em;background-color: white;position: relative;}#sk-4ca70d78-f501-4c08-88b8-ad36a1f1e5a5 div.sk-label label {font-family: monospace;font-weight: bold;background-color: white;display: inline-block;line-height: 1.2em;}#sk-4ca70d78-f501-4c08-88b8-ad36a1f1e5a5 div.sk-label-container {position: relative;z-index: 2;text-align: center;}#sk-4ca70d78-f501-4c08-88b8-ad36a1f1e5a5 div.sk-container {/* jupyter's `normalize.less` sets `[hidden] { display: none; }` but bootstrap.min.css set `[hidden] { display: none !important; }` so we also need the `!important` here to be able to override the default hidden behavior on the sphinx rendered scikit-learn.org. See: https://github.com/scikit-learn/scikit-learn/issues/21755 */display: inline-block !important;position: relative;}#sk-4ca70d78-f501-4c08-88b8-ad36a1f1e5a5 div.sk-text-repr-fallback {display: none;}</style><div id='sk-4ca70d78-f501-4c08-88b8-ad36a1f1e5a5' class=\"sk-top-container\"><div class=\"sk-text-repr-fallback\"><pre>MrSEQL()</pre><b>Please rerun this cell to show the HTML repr or trust the notebook.</b></div><div class=\"sk-container\" hidden><div class='sk-item'><div class=\"sk-estimator sk-toggleable\"><input class=\"sk-toggleable__control sk-hidden--visually\" id=UUID('8eb36e53-b1d6-4e2e-801c-2190a758138e') type=\"checkbox\" checked><label for=UUID('8eb36e53-b1d6-4e2e-801c-2190a758138e') class='sk-toggleable__label sk-toggleable__label-arrow'>MrSEQL</label><div class=\"sk-toggleable__content\"><pre>MrSEQL()</pre></div></div></div></div></div>"
      ],
      "text/plain": [
       "MrSEQL()"
      ]
     },
     "execution_count": 61,
     "metadata": {},
     "output_type": "execute_result"
    }
   ],
   "source": [
    "seql.fit(X_train_scaled,y_train)"
   ]
  },
  {
   "cell_type": "code",
   "execution_count": 62,
   "id": "5182c2f9",
   "metadata": {},
   "outputs": [],
   "source": [
    "y_pred_seql = seql.predict(X_test_scaled)"
   ]
  },
  {
   "cell_type": "code",
   "execution_count": 63,
   "id": "63d3b297",
   "metadata": {},
   "outputs": [
    {
     "name": "stdout",
     "output_type": "stream",
     "text": [
      "classification report for MrSEQL\n",
      "               precision    recall  f1-score   support\n",
      "\n",
      " heavy-metal       0.59      0.60      0.59       150\n",
      "       salsa       0.59      0.58      0.59       150\n",
      "\n",
      "    accuracy                           0.59       300\n",
      "   macro avg       0.59      0.59      0.59       300\n",
      "weighted avg       0.59      0.59      0.59       300\n",
      "\n"
     ]
    }
   ],
   "source": [
    "print('classification report for MrSEQL\\n', classification_report(y_test,y_pred_seql ))"
   ]
  },
  {
   "cell_type": "code",
   "execution_count": 64,
   "id": "9507ecdc",
   "metadata": {},
   "outputs": [],
   "source": [
    "seql2 = MrSEQL(seql_mode = 'clf', symrep = 'sax')"
   ]
  },
  {
   "cell_type": "code",
   "execution_count": 65,
   "id": "6159f66e",
   "metadata": {},
   "outputs": [
    {
     "data": {
      "text/html": [
       "<style>#sk-6ff72eae-1486-4876-a2c3-f52b5dae5fb5 {color: black;background-color: white;}#sk-6ff72eae-1486-4876-a2c3-f52b5dae5fb5 pre{padding: 0;}#sk-6ff72eae-1486-4876-a2c3-f52b5dae5fb5 div.sk-toggleable {background-color: white;}#sk-6ff72eae-1486-4876-a2c3-f52b5dae5fb5 label.sk-toggleable__label {cursor: pointer;display: block;width: 100%;margin-bottom: 0;padding: 0.3em;box-sizing: border-box;text-align: center;}#sk-6ff72eae-1486-4876-a2c3-f52b5dae5fb5 label.sk-toggleable__label-arrow:before {content: \"▸\";float: left;margin-right: 0.25em;color: #696969;}#sk-6ff72eae-1486-4876-a2c3-f52b5dae5fb5 label.sk-toggleable__label-arrow:hover:before {color: black;}#sk-6ff72eae-1486-4876-a2c3-f52b5dae5fb5 div.sk-estimator:hover label.sk-toggleable__label-arrow:before {color: black;}#sk-6ff72eae-1486-4876-a2c3-f52b5dae5fb5 div.sk-toggleable__content {max-height: 0;max-width: 0;overflow: hidden;text-align: left;background-color: #f0f8ff;}#sk-6ff72eae-1486-4876-a2c3-f52b5dae5fb5 div.sk-toggleable__content pre {margin: 0.2em;color: black;border-radius: 0.25em;background-color: #f0f8ff;}#sk-6ff72eae-1486-4876-a2c3-f52b5dae5fb5 input.sk-toggleable__control:checked~div.sk-toggleable__content {max-height: 200px;max-width: 100%;overflow: auto;}#sk-6ff72eae-1486-4876-a2c3-f52b5dae5fb5 input.sk-toggleable__control:checked~label.sk-toggleable__label-arrow:before {content: \"▾\";}#sk-6ff72eae-1486-4876-a2c3-f52b5dae5fb5 div.sk-estimator input.sk-toggleable__control:checked~label.sk-toggleable__label {background-color: #d4ebff;}#sk-6ff72eae-1486-4876-a2c3-f52b5dae5fb5 div.sk-label input.sk-toggleable__control:checked~label.sk-toggleable__label {background-color: #d4ebff;}#sk-6ff72eae-1486-4876-a2c3-f52b5dae5fb5 input.sk-hidden--visually {border: 0;clip: rect(1px 1px 1px 1px);clip: rect(1px, 1px, 1px, 1px);height: 1px;margin: -1px;overflow: hidden;padding: 0;position: absolute;width: 1px;}#sk-6ff72eae-1486-4876-a2c3-f52b5dae5fb5 div.sk-estimator {font-family: monospace;background-color: #f0f8ff;border: 1px dotted black;border-radius: 0.25em;box-sizing: border-box;margin-bottom: 0.5em;}#sk-6ff72eae-1486-4876-a2c3-f52b5dae5fb5 div.sk-estimator:hover {background-color: #d4ebff;}#sk-6ff72eae-1486-4876-a2c3-f52b5dae5fb5 div.sk-parallel-item::after {content: \"\";width: 100%;border-bottom: 1px solid gray;flex-grow: 1;}#sk-6ff72eae-1486-4876-a2c3-f52b5dae5fb5 div.sk-label:hover label.sk-toggleable__label {background-color: #d4ebff;}#sk-6ff72eae-1486-4876-a2c3-f52b5dae5fb5 div.sk-serial::before {content: \"\";position: absolute;border-left: 1px solid gray;box-sizing: border-box;top: 2em;bottom: 0;left: 50%;}#sk-6ff72eae-1486-4876-a2c3-f52b5dae5fb5 div.sk-serial {display: flex;flex-direction: column;align-items: center;background-color: white;padding-right: 0.2em;padding-left: 0.2em;}#sk-6ff72eae-1486-4876-a2c3-f52b5dae5fb5 div.sk-item {z-index: 1;}#sk-6ff72eae-1486-4876-a2c3-f52b5dae5fb5 div.sk-parallel {display: flex;align-items: stretch;justify-content: center;background-color: white;}#sk-6ff72eae-1486-4876-a2c3-f52b5dae5fb5 div.sk-parallel::before {content: \"\";position: absolute;border-left: 1px solid gray;box-sizing: border-box;top: 2em;bottom: 0;left: 50%;}#sk-6ff72eae-1486-4876-a2c3-f52b5dae5fb5 div.sk-parallel-item {display: flex;flex-direction: column;position: relative;background-color: white;}#sk-6ff72eae-1486-4876-a2c3-f52b5dae5fb5 div.sk-parallel-item:first-child::after {align-self: flex-end;width: 50%;}#sk-6ff72eae-1486-4876-a2c3-f52b5dae5fb5 div.sk-parallel-item:last-child::after {align-self: flex-start;width: 50%;}#sk-6ff72eae-1486-4876-a2c3-f52b5dae5fb5 div.sk-parallel-item:only-child::after {width: 0;}#sk-6ff72eae-1486-4876-a2c3-f52b5dae5fb5 div.sk-dashed-wrapped {border: 1px dashed gray;margin: 0 0.4em 0.5em 0.4em;box-sizing: border-box;padding-bottom: 0.4em;background-color: white;position: relative;}#sk-6ff72eae-1486-4876-a2c3-f52b5dae5fb5 div.sk-label label {font-family: monospace;font-weight: bold;background-color: white;display: inline-block;line-height: 1.2em;}#sk-6ff72eae-1486-4876-a2c3-f52b5dae5fb5 div.sk-label-container {position: relative;z-index: 2;text-align: center;}#sk-6ff72eae-1486-4876-a2c3-f52b5dae5fb5 div.sk-container {/* jupyter's `normalize.less` sets `[hidden] { display: none; }` but bootstrap.min.css set `[hidden] { display: none !important; }` so we also need the `!important` here to be able to override the default hidden behavior on the sphinx rendered scikit-learn.org. See: https://github.com/scikit-learn/scikit-learn/issues/21755 */display: inline-block !important;position: relative;}#sk-6ff72eae-1486-4876-a2c3-f52b5dae5fb5 div.sk-text-repr-fallback {display: none;}</style><div id='sk-6ff72eae-1486-4876-a2c3-f52b5dae5fb5' class=\"sk-top-container\"><div class=\"sk-text-repr-fallback\"><pre>MrSEQL(seql_mode=&#x27;clf&#x27;)</pre><b>Please rerun this cell to show the HTML repr or trust the notebook.</b></div><div class=\"sk-container\" hidden><div class='sk-item'><div class=\"sk-estimator sk-toggleable\"><input class=\"sk-toggleable__control sk-hidden--visually\" id=UUID('a39d17e4-533b-4bf1-b3a6-6ffe085c02ef') type=\"checkbox\" checked><label for=UUID('a39d17e4-533b-4bf1-b3a6-6ffe085c02ef') class='sk-toggleable__label sk-toggleable__label-arrow'>MrSEQL</label><div class=\"sk-toggleable__content\"><pre>MrSEQL(seql_mode=&#x27;clf&#x27;)</pre></div></div></div></div></div>"
      ],
      "text/plain": [
       "MrSEQL(seql_mode='clf')"
      ]
     },
     "execution_count": 65,
     "metadata": {},
     "output_type": "execute_result"
    }
   ],
   "source": [
    "seql2.fit(X_train_scaled, y_train)"
   ]
  },
  {
   "cell_type": "code",
   "execution_count": 66,
   "id": "ac360f79",
   "metadata": {},
   "outputs": [],
   "source": [
    "y_pred_seql2 = seql2.predict(X_test_scaled)"
   ]
  },
  {
   "cell_type": "code",
   "execution_count": 67,
   "id": "d56c4a73",
   "metadata": {},
   "outputs": [
    {
     "name": "stdout",
     "output_type": "stream",
     "text": [
      "classification report for MrSEQL\n",
      "               precision    recall  f1-score   support\n",
      "\n",
      " heavy-metal       0.50      1.00      0.67       150\n",
      "       salsa       0.00      0.00      0.00       150\n",
      "\n",
      "    accuracy                           0.50       300\n",
      "   macro avg       0.25      0.50      0.33       300\n",
      "weighted avg       0.25      0.50      0.33       300\n",
      "\n"
     ]
    },
    {
     "name": "stderr",
     "output_type": "stream",
     "text": [
      "/Users/thomasgonzo/anaconda3/lib/python3.10/site-packages/sklearn/metrics/_classification.py:1344: UndefinedMetricWarning: Precision and F-score are ill-defined and being set to 0.0 in labels with no predicted samples. Use `zero_division` parameter to control this behavior.\n",
      "  _warn_prf(average, modifier, msg_start, len(result))\n",
      "/Users/thomasgonzo/anaconda3/lib/python3.10/site-packages/sklearn/metrics/_classification.py:1344: UndefinedMetricWarning: Precision and F-score are ill-defined and being set to 0.0 in labels with no predicted samples. Use `zero_division` parameter to control this behavior.\n",
      "  _warn_prf(average, modifier, msg_start, len(result))\n",
      "/Users/thomasgonzo/anaconda3/lib/python3.10/site-packages/sklearn/metrics/_classification.py:1344: UndefinedMetricWarning: Precision and F-score are ill-defined and being set to 0.0 in labels with no predicted samples. Use `zero_division` parameter to control this behavior.\n",
      "  _warn_prf(average, modifier, msg_start, len(result))\n"
     ]
    }
   ],
   "source": [
    "print('classification report for MrSEQL\\n', classification_report(y_test,y_pred_seql2 ))"
   ]
  },
  {
   "cell_type": "code",
   "execution_count": null,
   "id": "4535cb6e",
   "metadata": {},
   "outputs": [],
   "source": []
  }
 ],
 "metadata": {
  "kernelspec": {
   "display_name": "Python 3 (ipykernel)",
   "language": "python",
   "name": "python3"
  },
  "language_info": {
   "codemirror_mode": {
    "name": "ipython",
    "version": 3
   },
   "file_extension": ".py",
   "mimetype": "text/x-python",
   "name": "python",
   "nbconvert_exporter": "python",
   "pygments_lexer": "ipython3",
   "version": "3.10.14"
  }
 },
 "nbformat": 4,
 "nbformat_minor": 5
}
